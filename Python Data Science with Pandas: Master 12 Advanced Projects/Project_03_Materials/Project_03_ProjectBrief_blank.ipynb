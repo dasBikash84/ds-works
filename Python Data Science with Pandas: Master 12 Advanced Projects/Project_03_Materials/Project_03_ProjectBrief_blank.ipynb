{
 "cells": [
  {
   "cell_type": "markdown",
   "metadata": {},
   "source": [
    "# Project 3: Data Cleaning - Tidy up messy Datasets (Movies Dataset)"
   ]
  },
  {
   "cell_type": "markdown",
   "metadata": {},
   "source": [
    "# Project Brief for Self-Coders"
   ]
  },
  {
   "cell_type": "markdown",
   "metadata": {},
   "source": [
    "Here you´ll have the opportunity to code major parts of Project 3 on your own. If you need any help or inspiration, have a look at the Videos or the Jupyter Notebook with the full code. <br> <br>\n",
    "Keep in mind that it´s all about __getting the right results/conclusions__. It´s not about finding the identical code. Things can be coded in many different ways. Even if you come to the same conclusions, it´s very unlikely that we have the very same code. "
   ]
  },
  {
   "cell_type": "markdown",
   "metadata": {},
   "source": [
    "## First Steps "
   ]
  },
  {
   "cell_type": "markdown",
   "metadata": {},
   "source": [
    "1. __Load__ and __inspect__ the messy dataset __movies_metadata.csv__. Identify columns with nested / stringified json data."
   ]
  },
  {
   "cell_type": "code",
   "execution_count": 1,
   "metadata": {},
   "outputs": [],
   "source": [
    "import pandas as pd\n",
    "import numpy as np"
   ]
  },
  {
   "cell_type": "code",
   "execution_count": 351,
   "metadata": {
    "scrolled": false
   },
   "outputs": [],
   "source": [
    "mm_df = pd.read_csv('movies_metadata.csv',low_memory=False)"
   ]
  },
  {
   "cell_type": "code",
   "execution_count": null,
   "metadata": {
    "scrolled": true
   },
   "outputs": [],
   "source": [
    "mm_df.head(5)"
   ]
  },
  {
   "cell_type": "code",
   "execution_count": null,
   "metadata": {
    "scrolled": true
   },
   "outputs": [],
   "source": [
    "mm_df.info()"
   ]
  },
  {
   "cell_type": "code",
   "execution_count": null,
   "metadata": {},
   "outputs": [],
   "source": [
    "mm_df.describe()"
   ]
  },
  {
   "cell_type": "code",
   "execution_count": null,
   "metadata": {
    "scrolled": false
   },
   "outputs": [],
   "source": [
    "mm_df.columns.to_list()"
   ]
  },
  {
   "cell_type": "code",
   "execution_count": null,
   "metadata": {
    "scrolled": true
   },
   "outputs": [],
   "source": [
    "mm_df.shape"
   ]
  },
  {
   "cell_type": "code",
   "execution_count": null,
   "metadata": {},
   "outputs": [],
   "source": [
    "def parse_for_bool(val,filler_val=np.nan):\n",
    "    true_strs=['True','true']\n",
    "    false_strs=['False','false']\n",
    "    if val in true_strs:\n",
    "        return True\n",
    "    elif val in false_strs:\n",
    "        return False\n",
    "    else:\n",
    "        return filler_val\n",
    "    "
   ]
  },
  {
   "cell_type": "markdown",
   "metadata": {},
   "source": [
    "## Dropping irrelevant Columns"
   ]
  },
  {
   "cell_type": "markdown",
   "metadata": {},
   "source": [
    "2. __Drop__ the irrelevant columns 'adult', 'imdb_id', 'original_title', 'video' and 'homepage'."
   ]
  },
  {
   "cell_type": "code",
   "execution_count": 257,
   "metadata": {},
   "outputs": [],
   "source": [
    "mm_df.drop(columns=['adult','imdb_id','original_title', 'video' , 'homepage'],inplace=True)"
   ]
  },
  {
   "cell_type": "code",
   "execution_count": null,
   "metadata": {},
   "outputs": [],
   "source": [
    "mm_df.info()"
   ]
  },
  {
   "cell_type": "code",
   "execution_count": null,
   "metadata": {},
   "outputs": [],
   "source": [
    "mm_df.describe()"
   ]
  },
  {
   "cell_type": "markdown",
   "metadata": {},
   "source": [
    "## How to handle stringified JSON columns"
   ]
  },
  {
   "cell_type": "markdown",
   "metadata": {},
   "source": [
    "3. __Evaluate__ Python Expressions in the stringified columns [\"belongs_to_collection\", \"genres\", \"production_countries\", \"production_companies\", \"spoken_languages\"] and __remove quotes__ (\"\") where possible."
   ]
  },
  {
   "cell_type": "code",
   "execution_count": 169,
   "metadata": {},
   "outputs": [],
   "source": [
    "import json\n",
    "import re"
   ]
  },
  {
   "cell_type": "code",
   "execution_count": 170,
   "metadata": {},
   "outputs": [],
   "source": [
    "def clean_json_null(json_str):\n",
    "    return re.sub(':\\s?(None|Nan|nan)\\s?([,}])',lambda m:': null'+m.group(2),json_str)\n",
    "\n",
    "def remove_json_str_sing_quote(json_str):\n",
    "    \n",
    "    \n",
    "    json_key_pat = \"\\'([a-zA-Z_0-9]+)\\'\\s?:\"\n",
    "    json_data_pat = \":\\s?\\'([^']*)\\'?([,}])\"\n",
    "    json_data_double_quo_remove_pat = '(:\\s?\\\"[^(,})]*)(\\\")([^(,})]*\\\"[,}])'\n",
    "    json_invalid_esc_pat = \"\\\\x\"\n",
    "    \n",
    "    json_str = re.sub(json_key_pat,lambda m:'\"'+m.group(1)+'\"'+':',json_str)\n",
    "    json_str = re.sub(json_data_pat,lambda m: ':'+'\"'+m.group(1)+'\"'+m.group(2),json_str)\n",
    "    \n",
    "    while re.match('.*'+json_data_double_quo_remove_pat+'.*',json_str):\n",
    "        json_str = re.sub(json_data_double_quo_remove_pat,lambda m: m.group(1)+\"'\"+m.group(3),json_str)\n",
    "        \n",
    "    json_str = json_str.replace(json_invalid_esc_pat,'')\n",
    "    \n",
    "        \n",
    "    return json_str"
   ]
  },
  {
   "cell_type": "code",
   "execution_count": 171,
   "metadata": {},
   "outputs": [],
   "source": [
    "def process_for_json(data):\n",
    "    try:\n",
    "        if pd.isna(data) or ((re.match('^\\[.*\\]$',data) == None) and (re.match('^\\{.*\\}$',data) == None)):\n",
    "            return np.nan\n",
    "\n",
    "        data = remove_json_str_sing_quote(data)\n",
    "        data = clean_json_null(data)\n",
    "        return json.loads(data)\n",
    "    except:\n",
    "        return np.nan"
   ]
  },
  {
   "cell_type": "code",
   "execution_count": 258,
   "metadata": {
    "scrolled": true
   },
   "outputs": [],
   "source": [
    "mm_df['belongs_to_collection'] = mm_df['belongs_to_collection'].apply(process_for_json)\n",
    "mm_df['genres'] = mm_df['genres'].apply(process_for_json)\n",
    "mm_df['spoken_languages'] = mm_df['spoken_languages'].apply(process_for_json)\n",
    "mm_df['production_countries'] = mm_df['production_countries'].apply(process_for_json)\n",
    "mm_df['production_companies'] = mm_df['production_companies'].apply(process_for_json)"
   ]
  },
  {
   "cell_type": "markdown",
   "metadata": {},
   "source": [
    "## How to flatten nested Columns"
   ]
  },
  {
   "cell_type": "code",
   "execution_count": 173,
   "metadata": {},
   "outputs": [],
   "source": [
    "def get_key_from_json(data,key,separator='|'):\n",
    "#     print(pd.isna(data))\n",
    "#     print(data)\n",
    "    if type(data) == list:\n",
    "        return separator.join(list(map(lambda x:str(x[key]),data)))   \n",
    "    elif (type(data) == dict) and (key in data.keys()):\n",
    "        return data[key]\n",
    "    return np.nan"
   ]
  },
  {
   "cell_type": "code",
   "execution_count": 174,
   "metadata": {},
   "outputs": [],
   "source": [
    "def flatten_json(data):\n",
    "    return get_key_from_json(data,'name','|')"
   ]
  },
  {
   "cell_type": "markdown",
   "metadata": {},
   "source": [
    "4. __Extract__ only the __collection name__ from the column \"belongs_to_collection\" and __overwrite__ \"belongs_to_collection\". <br> For example: The value in the first row (Toy Story) should be 'Toy Story Collection'."
   ]
  },
  {
   "cell_type": "code",
   "execution_count": 259,
   "metadata": {},
   "outputs": [
    {
     "data": {
      "text/plain": [
       "0                  Toy Story Collection\n",
       "1                                   NaN\n",
       "2             Grumpy Old Men Collection\n",
       "3                                   NaN\n",
       "4        Father of the Bride Collection\n",
       "                      ...              \n",
       "45461                               NaN\n",
       "45462                               NaN\n",
       "45463                               NaN\n",
       "45464                               NaN\n",
       "45465                               NaN\n",
       "Name: belongs_to_collection, Length: 45466, dtype: object"
      ]
     },
     "execution_count": 259,
     "metadata": {},
     "output_type": "execute_result"
    }
   ],
   "source": [
    "mm_df['belongs_to_collection'] = mm_df['belongs_to_collection'].apply(flatten_json)\n",
    "mm_df['belongs_to_collection']"
   ]
  },
  {
   "cell_type": "markdown",
   "metadata": {},
   "source": [
    "5. __Extract__ all __genre names__ from the column \"genres\" and __overwrite__ \"genres\". If a movie has more than one genre, __seperate genres by a pipe__ \"|\".<br>\n",
    "For example: The value in the first row (Toy Story) should be 'Animation|Comedy|Family'."
   ]
  },
  {
   "cell_type": "code",
   "execution_count": 260,
   "metadata": {},
   "outputs": [
    {
     "data": {
      "text/plain": [
       "0         Animation|Comedy|Family\n",
       "1        Adventure|Fantasy|Family\n",
       "2                  Romance|Comedy\n",
       "3            Comedy|Drama|Romance\n",
       "4                          Comedy\n",
       "                   ...           \n",
       "45461                Drama|Family\n",
       "45462                       Drama\n",
       "45463       Action|Drama|Thriller\n",
       "45464                            \n",
       "45465                            \n",
       "Name: genres, Length: 45466, dtype: object"
      ]
     },
     "execution_count": 260,
     "metadata": {},
     "output_type": "execute_result"
    }
   ],
   "source": [
    "mm_df['genres'] = mm_df['genres'].apply(flatten_json)\n",
    "mm_df['genres']"
   ]
  },
  {
   "cell_type": "markdown",
   "metadata": {},
   "source": [
    "6. __Extract__ all __spoken language names__ from the column \"spoken_languages\" and __overwrite__ \"spoken_languages\". If a movie has more than one spoken language, __seperate spoken languages by a pipe__ \"|\".<br>\n",
    "For example: The value in the first row (Toy Story) should be 'English'."
   ]
  },
  {
   "cell_type": "code",
   "execution_count": 261,
   "metadata": {},
   "outputs": [
    {
     "data": {
      "text/plain": [
       "0                 English\n",
       "1        English|Français\n",
       "2                 English\n",
       "3                 English\n",
       "4                 English\n",
       "               ...       \n",
       "45461               فارسی\n",
       "45462                    \n",
       "45463             English\n",
       "45464                    \n",
       "45465             English\n",
       "Name: spoken_languages, Length: 45466, dtype: object"
      ]
     },
     "execution_count": 261,
     "metadata": {},
     "output_type": "execute_result"
    }
   ],
   "source": [
    "mm_df['spoken_languages'] = mm_df['spoken_languages'].apply(flatten_json)\n",
    "mm_df['spoken_languages']"
   ]
  },
  {
   "cell_type": "markdown",
   "metadata": {},
   "source": [
    "7. __Extract__ all __production countries names__ from the column \"production_countries\" and __overwrite__ \"production_countries\". If a movie has more than one production country, __seperate production countries by a pipe__ \"|\".<br>\n",
    "For example: The value in the first row (Toy Story) should be 'United States of America'."
   ]
  },
  {
   "cell_type": "code",
   "execution_count": 262,
   "metadata": {},
   "outputs": [
    {
     "data": {
      "text/plain": [
       "0        United States of America\n",
       "1        United States of America\n",
       "2        United States of America\n",
       "3        United States of America\n",
       "4        United States of America\n",
       "                   ...           \n",
       "45461                        Iran\n",
       "45462                 Philippines\n",
       "45463    United States of America\n",
       "45464                      Russia\n",
       "45465              United Kingdom\n",
       "Name: production_countries, Length: 45466, dtype: object"
      ]
     },
     "execution_count": 262,
     "metadata": {},
     "output_type": "execute_result"
    }
   ],
   "source": [
    "mm_df['production_countries'] = mm_df['production_countries'].apply(flatten_json)\n",
    "mm_df['production_countries']"
   ]
  },
  {
   "cell_type": "markdown",
   "metadata": {},
   "source": [
    "8. __Extract__ all __production companies names__ from the column \"production_companies\" and __overwrite__ \"production_companies\". If a movie has more than one production company, __seperate production companies by a pipe__ \"|\".<br>\n",
    "For example: The value in the first row (Toy Story) should be 'Pixar Animation Studios'"
   ]
  },
  {
   "cell_type": "code",
   "execution_count": 263,
   "metadata": {},
   "outputs": [
    {
     "data": {
      "text/plain": [
       "0                                  Pixar Animation Studios\n",
       "1        TriStar Pictures|Teitler Film|Interscope Commu...\n",
       "2                              Warner Bros.|Lancaster Gate\n",
       "3                   Twentieth Century Fox Film Corporation\n",
       "4                Sandollar Productions|Touchstone Pictures\n",
       "                               ...                        \n",
       "45461                                                     \n",
       "45462                                          Sine Olivia\n",
       "45463                              American World Pictures\n",
       "45464                                            Yermoliev\n",
       "45465                                                     \n",
       "Name: production_companies, Length: 45466, dtype: object"
      ]
     },
     "execution_count": 263,
     "metadata": {},
     "output_type": "execute_result"
    }
   ],
   "source": [
    "mm_df['production_companies'] = mm_df['production_companies'].apply(flatten_json)\n",
    "mm_df['production_companies']"
   ]
  },
  {
   "cell_type": "markdown",
   "metadata": {},
   "source": [
    "9. __Inspect__ all columns above with value_counts(). Do you see anything strange? __Take reasonable measures__!"
   ]
  },
  {
   "cell_type": "code",
   "execution_count": null,
   "metadata": {},
   "outputs": [],
   "source": [
    "print(mm_df['production_companies'].value_counts(dropna=False).to_frame())\n",
    "print(mm_df['production_countries'].value_counts(dropna=False).to_frame())\n",
    "print(mm_df['spoken_languages'].value_counts(dropna=False).to_frame())\n",
    "print(mm_df['genres'].value_counts(dropna=False).to_frame())\n",
    "print(mm_df['belongs_to_collection'].value_counts(dropna=False).to_frame())"
   ]
  },
  {
   "cell_type": "markdown",
   "metadata": {},
   "source": [
    "## Cleaning Numerical Columns"
   ]
  },
  {
   "cell_type": "markdown",
   "metadata": {},
   "source": [
    "10. __Convert__ the datatype in the columns __\"budget\"__, __\"id\"__ and __\"popularity\"__ __to numeric__. Set invalid values as NaN."
   ]
  },
  {
   "cell_type": "code",
   "execution_count": 180,
   "metadata": {},
   "outputs": [],
   "source": [
    "def to_float(data):\n",
    "    try:\n",
    "        return float(data)\n",
    "    except:\n",
    "        return np.nan"
   ]
  },
  {
   "cell_type": "code",
   "execution_count": 264,
   "metadata": {},
   "outputs": [],
   "source": [
    "mm_df['budget'] = mm_df['budget'].apply(to_float)\n",
    "mm_df.id = mm_df.id.apply(to_float)\n",
    "mm_df.popularity = mm_df.popularity.apply(to_float)"
   ]
  },
  {
   "cell_type": "markdown",
   "metadata": {},
   "source": [
    "11. __Analyze__ the columns __\"budget\"__ and __\"revenue\"__ and __\"runtime\"__. Analyze movies with a budget/revenue/runtime of 0. Do you think the value 0 is the most appropriate value? __Take reasonable measures__! "
   ]
  },
  {
   "cell_type": "code",
   "execution_count": 187,
   "metadata": {
    "scrolled": false
   },
   "outputs": [],
   "source": [
    "def zero_to_nan(data):\n",
    "    if data == 0.0:\n",
    "        return np.nan\n",
    "    else:\n",
    "        return data"
   ]
  },
  {
   "cell_type": "code",
   "execution_count": 265,
   "metadata": {
    "scrolled": true
   },
   "outputs": [
    {
     "data": {
      "text/plain": [
       "NaN           36576\n",
       "5000000.0       286\n",
       "10000000.0      259\n",
       "20000000.0      243\n",
       "2000000.0       242\n",
       "              ...  \n",
       "2115000.0         1\n",
       "1590000.0         1\n",
       "1978000.0         1\n",
       "1182273.0         1\n",
       "2135161.0         1\n",
       "Name: budget, Length: 1223, dtype: int64"
      ]
     },
     "execution_count": 265,
     "metadata": {},
     "output_type": "execute_result"
    }
   ],
   "source": [
    "mm_df['budget'] = mm_df['budget'].apply(zero_to_nan)\n",
    "mm_df['budget'].value_counts(dropna=False)"
   ]
  },
  {
   "cell_type": "code",
   "execution_count": 233,
   "metadata": {
    "scrolled": true
   },
   "outputs": [
    {
     "data": {
      "text/plain": [
       "NaN         3\n",
       "141971.0    3\n",
       "110428.0    2\n",
       "14788.0     2\n",
       "84198.0     2\n",
       "           ..\n",
       "24740.0     1\n",
       "9737.0      1\n",
       "38726.0     1\n",
       "71772.0     1\n",
       "226693.0    1\n",
       "Name: id, Length: 45434, dtype: int64"
      ]
     },
     "execution_count": 233,
     "metadata": {},
     "output_type": "execute_result"
    }
   ],
   "source": [
    "mm_df['id'] = mm_df['id'].apply(zero_to_nan)\n",
    "mm_df['id'].value_counts(dropna=False)"
   ]
  },
  {
   "cell_type": "code",
   "execution_count": 266,
   "metadata": {},
   "outputs": [
    {
     "data": {
      "text/plain": [
       "NaN         72\n",
       "0.000001    56\n",
       "0.000308    43\n",
       "0.000220    40\n",
       "0.001177    38\n",
       "            ..\n",
       "1.880791     1\n",
       "0.531305     1\n",
       "2.424056     1\n",
       "7.772822     1\n",
       "1.691634     1\n",
       "Name: popularity, Length: 43757, dtype: int64"
      ]
     },
     "execution_count": 266,
     "metadata": {},
     "output_type": "execute_result"
    }
   ],
   "source": [
    "mm_df['popularity'] = mm_df['popularity'].apply(zero_to_nan)\n",
    "mm_df['popularity'].value_counts(dropna=False)"
   ]
  },
  {
   "cell_type": "markdown",
   "metadata": {},
   "source": [
    "12. The columns \"budget\" and \"revenue\" shall show values in Million USD. __Convert and Overwrite__!"
   ]
  },
  {
   "cell_type": "code",
   "execution_count": 267,
   "metadata": {
    "scrolled": false
   },
   "outputs": [
    {
     "data": {
      "text/plain": [
       "NaN          36576\n",
       "5.000000       286\n",
       "10.000000      259\n",
       "20.000000      243\n",
       "2.000000       242\n",
       "             ...  \n",
       "0.313411         1\n",
       "0.270000         1\n",
       "10.495000        1\n",
       "23.600000        1\n",
       "0.672000         1\n",
       "Name: budget, Length: 1223, dtype: int64"
      ]
     },
     "execution_count": 267,
     "metadata": {},
     "output_type": "execute_result"
    }
   ],
   "source": [
    "mm_df['budget'] = mm_df['budget'].apply(lambda x:x/1000000)\n",
    "mm_df['budget'].value_counts(dropna=False)"
   ]
  },
  {
   "cell_type": "code",
   "execution_count": 236,
   "metadata": {},
   "outputs": [
    {
     "data": {
      "text/plain": [
       "0.000000      38052\n",
       "12.000000        20\n",
       "10.000000        19\n",
       "11.000000        19\n",
       "2.000000         18\n",
       "              ...  \n",
       "74.134790         1\n",
       "46.236000         1\n",
       "0.265318          1\n",
       "1.310673          1\n",
       "186.883563        1\n",
       "Name: revenue, Length: 6864, dtype: int64"
      ]
     },
     "execution_count": 236,
     "metadata": {},
     "output_type": "execute_result"
    }
   ],
   "source": [
    "mm_df['revenue'] = mm_df['revenue'].apply(lambda x:x/1000000)\n",
    "mm_df['revenue'].value_counts(dropna=False)"
   ]
  },
  {
   "cell_type": "markdown",
   "metadata": {},
   "source": [
    "13. __Analyze__ movies with a __vote_count of 0__. What´s the __vote_average__ for those movies? Do you think this value is the most appropriate value? __Take reasonable measures__!"
   ]
  },
  {
   "cell_type": "code",
   "execution_count": 268,
   "metadata": {},
   "outputs": [],
   "source": [
    "def fix_vote_average(row):\n",
    "    if row['vote_count'] == 0:\n",
    "        row['vote_average'] = np.nan\n",
    "    return row"
   ]
  },
  {
   "cell_type": "code",
   "execution_count": 269,
   "metadata": {},
   "outputs": [],
   "source": [
    "mm_df = mm_df.apply(fix_vote_average,axis=1)"
   ]
  },
  {
   "cell_type": "code",
   "execution_count": 270,
   "metadata": {},
   "outputs": [
    {
     "data": {
      "text/html": [
       "<div>\n",
       "<style scoped>\n",
       "    .dataframe tbody tr th:only-of-type {\n",
       "        vertical-align: middle;\n",
       "    }\n",
       "\n",
       "    .dataframe tbody tr th {\n",
       "        vertical-align: top;\n",
       "    }\n",
       "\n",
       "    .dataframe thead th {\n",
       "        text-align: right;\n",
       "    }\n",
       "</style>\n",
       "<table border=\"1\" class=\"dataframe\">\n",
       "  <thead>\n",
       "    <tr style=\"text-align: right;\">\n",
       "      <th></th>\n",
       "      <th>vote_count</th>\n",
       "      <th>vote_average</th>\n",
       "    </tr>\n",
       "  </thead>\n",
       "  <tbody>\n",
       "    <tr>\n",
       "      <th>83</th>\n",
       "      <td>0.0</td>\n",
       "      <td>NaN</td>\n",
       "    </tr>\n",
       "    <tr>\n",
       "      <th>107</th>\n",
       "      <td>0.0</td>\n",
       "      <td>NaN</td>\n",
       "    </tr>\n",
       "    <tr>\n",
       "      <th>126</th>\n",
       "      <td>0.0</td>\n",
       "      <td>NaN</td>\n",
       "    </tr>\n",
       "    <tr>\n",
       "      <th>132</th>\n",
       "      <td>0.0</td>\n",
       "      <td>NaN</td>\n",
       "    </tr>\n",
       "    <tr>\n",
       "      <th>137</th>\n",
       "      <td>0.0</td>\n",
       "      <td>NaN</td>\n",
       "    </tr>\n",
       "    <tr>\n",
       "      <th>...</th>\n",
       "      <td>...</td>\n",
       "      <td>...</td>\n",
       "    </tr>\n",
       "    <tr>\n",
       "      <th>45432</th>\n",
       "      <td>0.0</td>\n",
       "      <td>NaN</td>\n",
       "    </tr>\n",
       "    <tr>\n",
       "      <th>45434</th>\n",
       "      <td>0.0</td>\n",
       "      <td>NaN</td>\n",
       "    </tr>\n",
       "    <tr>\n",
       "      <th>45452</th>\n",
       "      <td>0.0</td>\n",
       "      <td>NaN</td>\n",
       "    </tr>\n",
       "    <tr>\n",
       "      <th>45464</th>\n",
       "      <td>0.0</td>\n",
       "      <td>NaN</td>\n",
       "    </tr>\n",
       "    <tr>\n",
       "      <th>45465</th>\n",
       "      <td>0.0</td>\n",
       "      <td>NaN</td>\n",
       "    </tr>\n",
       "  </tbody>\n",
       "</table>\n",
       "<p>2899 rows × 2 columns</p>\n",
       "</div>"
      ],
      "text/plain": [
       "       vote_count  vote_average\n",
       "83            0.0           NaN\n",
       "107           0.0           NaN\n",
       "126           0.0           NaN\n",
       "132           0.0           NaN\n",
       "137           0.0           NaN\n",
       "...           ...           ...\n",
       "45432         0.0           NaN\n",
       "45434         0.0           NaN\n",
       "45452         0.0           NaN\n",
       "45464         0.0           NaN\n",
       "45465         0.0           NaN\n",
       "\n",
       "[2899 rows x 2 columns]"
      ]
     },
     "execution_count": 270,
     "metadata": {},
     "output_type": "execute_result"
    }
   ],
   "source": [
    "mm_df[mm_df.vote_count == 0][['vote_count','vote_average']]"
   ]
  },
  {
   "cell_type": "markdown",
   "metadata": {},
   "source": [
    "## Cleaning DateTime Columns"
   ]
  },
  {
   "cell_type": "markdown",
   "metadata": {},
   "source": [
    "14. __Convert__ the datatype in the column __\"release_date\"__ __to datetime__. Set invalid values as NaN."
   ]
  },
  {
   "cell_type": "code",
   "execution_count": 271,
   "metadata": {},
   "outputs": [],
   "source": [
    "# ts_nan_count = 0\n",
    "def to_date_time(data):\n",
    "    global ts_nan_count\n",
    "    try:\n",
    "        return pd.to_datetime(data)\n",
    "    except:\n",
    "#         ts_nan_count = ts_nan_count + 1\n",
    "#         print(data)\n",
    "        return np.nan"
   ]
  },
  {
   "cell_type": "code",
   "execution_count": 272,
   "metadata": {},
   "outputs": [],
   "source": [
    "mm_df.release_date = mm_df.release_date.apply(to_date_time)"
   ]
  },
  {
   "cell_type": "code",
   "execution_count": 274,
   "metadata": {},
   "outputs": [
    {
     "data": {
      "text/plain": [
       "2008-01-01    136\n",
       "2009-01-01    121\n",
       "2007-01-01    118\n",
       "2005-01-01    111\n",
       "2006-01-01    101\n",
       "             ... \n",
       "1993-05-05      1\n",
       "1951-02-22      1\n",
       "1913-10-27      1\n",
       "1955-02-23      1\n",
       "1949-10-01      1\n",
       "Name: release_date, Length: 17334, dtype: int64"
      ]
     },
     "execution_count": 274,
     "metadata": {},
     "output_type": "execute_result"
    }
   ],
   "source": [
    "mm_df['release_date'].value_counts(dropna=False)"
   ]
  },
  {
   "cell_type": "markdown",
   "metadata": {},
   "source": [
    "## Cleaning Text / String Columns"
   ]
  },
  {
   "cell_type": "markdown",
   "metadata": {},
   "source": [
    "15. __Analyze__ the text columns \"overview\" and \"tagline\". Try to identify __missing data that is not represented by NaN__ (e.g. \"No Data\"). __Replace as NaN__ (np.nan)!"
   ]
  },
  {
   "cell_type": "code",
   "execution_count": 314,
   "metadata": {},
   "outputs": [
    {
     "data": {
      "text/plain": [
       "True"
      ]
     },
     "execution_count": 314,
     "metadata": {},
     "output_type": "execute_result"
    }
   ],
   "source": [
    "data =  'No overview found'\n",
    "(('overview' in data) or ('Overview' in data))"
   ]
  },
  {
   "cell_type": "code",
   "execution_count": 321,
   "metadata": {},
   "outputs": [],
   "source": [
    "def nan_no_overview(data):\n",
    "    if pd.isna(data):\n",
    "        return data\n",
    "    elif ((('No' in data) or ('No' in data)) and (('overview' in data) or ('Overview' in data))):\n",
    "        return np.nan\n",
    "    elif data.strip() == '':\n",
    "        return np.nan\n",
    "    return data"
   ]
  },
  {
   "cell_type": "code",
   "execution_count": 324,
   "metadata": {},
   "outputs": [],
   "source": [
    "mm_df['overview'] = mm_df['overview'].apply(nan_no_overview).value_counts(dropna=False).to_frame()"
   ]
  },
  {
   "cell_type": "code",
   "execution_count": 342,
   "metadata": {},
   "outputs": [
    {
     "data": {
      "text/html": [
       "<div>\n",
       "<style scoped>\n",
       "    .dataframe tbody tr th:only-of-type {\n",
       "        vertical-align: middle;\n",
       "    }\n",
       "\n",
       "    .dataframe tbody tr th {\n",
       "        vertical-align: top;\n",
       "    }\n",
       "\n",
       "    .dataframe thead th {\n",
       "        text-align: right;\n",
       "    }\n",
       "</style>\n",
       "<table border=\"1\" class=\"dataframe\">\n",
       "  <thead>\n",
       "    <tr style=\"text-align: right;\">\n",
       "      <th></th>\n",
       "      <th>tagline</th>\n",
       "    </tr>\n",
       "  </thead>\n",
       "  <tbody>\n",
       "    <tr>\n",
       "      <th>-</th>\n",
       "      <td>4</td>\n",
       "    </tr>\n",
       "    <tr>\n",
       "      <th>Run</th>\n",
       "      <td>1</td>\n",
       "    </tr>\n",
       "    <tr>\n",
       "      <th>To</th>\n",
       "      <td>1</td>\n",
       "    </tr>\n",
       "    <tr>\n",
       "      <th>Go!</th>\n",
       "      <td>1</td>\n",
       "    </tr>\n",
       "    <tr>\n",
       "      <th></th>\n",
       "      <td>1</td>\n",
       "    </tr>\n",
       "    <tr>\n",
       "      <th>B&amp;W</th>\n",
       "      <td>1</td>\n",
       "    </tr>\n",
       "  </tbody>\n",
       "</table>\n",
       "</div>"
      ],
      "text/plain": [
       "     tagline\n",
       "-          4\n",
       "Run        1\n",
       "To         1\n",
       "Go!        1\n",
       "           1\n",
       "B&W        1"
      ]
     },
     "execution_count": 342,
     "metadata": {},
     "output_type": "execute_result"
    }
   ],
   "source": [
    "mm_df[(mm_df['tagline'].str.len() < 4)].tagline.value_counts(dropna=False).to_frame()"
   ]
  },
  {
   "cell_type": "markdown",
   "metadata": {},
   "source": [
    "## Removing Duplicates"
   ]
  },
  {
   "cell_type": "markdown",
   "metadata": {},
   "source": [
    "16. __Identify__ and __remove__ duplicates!"
   ]
  },
  {
   "cell_type": "code",
   "execution_count": 345,
   "metadata": {},
   "outputs": [
    {
     "data": {
      "text/html": [
       "<div>\n",
       "<style scoped>\n",
       "    .dataframe tbody tr th:only-of-type {\n",
       "        vertical-align: middle;\n",
       "    }\n",
       "\n",
       "    .dataframe tbody tr th {\n",
       "        vertical-align: top;\n",
       "    }\n",
       "\n",
       "    .dataframe thead th {\n",
       "        text-align: right;\n",
       "    }\n",
       "</style>\n",
       "<table border=\"1\" class=\"dataframe\">\n",
       "  <thead>\n",
       "    <tr style=\"text-align: right;\">\n",
       "      <th></th>\n",
       "      <th>belongs_to_collection</th>\n",
       "      <th>budget</th>\n",
       "      <th>genres</th>\n",
       "      <th>id</th>\n",
       "      <th>original_language</th>\n",
       "      <th>overview</th>\n",
       "      <th>popularity</th>\n",
       "      <th>poster_path</th>\n",
       "      <th>production_companies</th>\n",
       "      <th>production_countries</th>\n",
       "      <th>release_date</th>\n",
       "      <th>revenue</th>\n",
       "      <th>runtime</th>\n",
       "      <th>spoken_languages</th>\n",
       "      <th>status</th>\n",
       "      <th>tagline</th>\n",
       "      <th>title</th>\n",
       "      <th>vote_average</th>\n",
       "      <th>vote_count</th>\n",
       "    </tr>\n",
       "  </thead>\n",
       "  <tbody>\n",
       "    <tr>\n",
       "      <th>7345</th>\n",
       "      <td>NaN</td>\n",
       "      <td>NaN</td>\n",
       "      <td>Crime|Drama|Thriller</td>\n",
       "      <td>5511.0</td>\n",
       "      <td>fr</td>\n",
       "      <td>NaN</td>\n",
       "      <td>9.091288</td>\n",
       "      <td>/cvNW8IXigbaMNo4gKEIps0NGnhA.jpg</td>\n",
       "      <td>Fida cinematografica|Compagnie Industrielle et...</td>\n",
       "      <td>France|Italy</td>\n",
       "      <td>1967-10-25</td>\n",
       "      <td>39481.0</td>\n",
       "      <td>105.0</td>\n",
       "      <td>Français</td>\n",
       "      <td>Released</td>\n",
       "      <td>There is no solitude greater than that of the ...</td>\n",
       "      <td>Le Samouraï</td>\n",
       "      <td>7.9</td>\n",
       "      <td>187.0</td>\n",
       "    </tr>\n",
       "    <tr>\n",
       "      <th>9165</th>\n",
       "      <td>NaN</td>\n",
       "      <td>NaN</td>\n",
       "      <td>Crime|Drama|Thriller</td>\n",
       "      <td>5511.0</td>\n",
       "      <td>fr</td>\n",
       "      <td>NaN</td>\n",
       "      <td>9.091288</td>\n",
       "      <td>/cvNW8IXigbaMNo4gKEIps0NGnhA.jpg</td>\n",
       "      <td>Fida cinematografica|Compagnie Industrielle et...</td>\n",
       "      <td>France|Italy</td>\n",
       "      <td>1967-10-25</td>\n",
       "      <td>39481.0</td>\n",
       "      <td>105.0</td>\n",
       "      <td>Français</td>\n",
       "      <td>Released</td>\n",
       "      <td>There is no solitude greater than that of the ...</td>\n",
       "      <td>Le Samouraï</td>\n",
       "      <td>7.9</td>\n",
       "      <td>187.0</td>\n",
       "    </tr>\n",
       "    <tr>\n",
       "      <th>24844</th>\n",
       "      <td>NaN</td>\n",
       "      <td>NaN</td>\n",
       "      <td>Comedy|Drama</td>\n",
       "      <td>11115.0</td>\n",
       "      <td>en</td>\n",
       "      <td>NaN</td>\n",
       "      <td>6.880365</td>\n",
       "      <td>/kHaBqrrozaG7rj6GJg3sUCiM29B.jpg</td>\n",
       "      <td>Andertainment Group|Crescent City Pictures|Tag...</td>\n",
       "      <td>United States of America</td>\n",
       "      <td>2008-01-29</td>\n",
       "      <td>0.0</td>\n",
       "      <td>85.0</td>\n",
       "      <td>English</td>\n",
       "      <td>Released</td>\n",
       "      <td>NaN</td>\n",
       "      <td>Deal</td>\n",
       "      <td>5.2</td>\n",
       "      <td>22.0</td>\n",
       "    </tr>\n",
       "    <tr>\n",
       "      <th>14012</th>\n",
       "      <td>NaN</td>\n",
       "      <td>NaN</td>\n",
       "      <td>Comedy|Drama</td>\n",
       "      <td>11115.0</td>\n",
       "      <td>en</td>\n",
       "      <td>NaN</td>\n",
       "      <td>6.880365</td>\n",
       "      <td>/kHaBqrrozaG7rj6GJg3sUCiM29B.jpg</td>\n",
       "      <td>Andertainment Group|Crescent City Pictures|Tag...</td>\n",
       "      <td>United States of America</td>\n",
       "      <td>2008-01-29</td>\n",
       "      <td>0.0</td>\n",
       "      <td>85.0</td>\n",
       "      <td>English</td>\n",
       "      <td>Released</td>\n",
       "      <td>NaN</td>\n",
       "      <td>Deal</td>\n",
       "      <td>5.2</td>\n",
       "      <td>22.0</td>\n",
       "    </tr>\n",
       "    <tr>\n",
       "      <th>22151</th>\n",
       "      <td>NaN</td>\n",
       "      <td>NaN</td>\n",
       "      <td>Action|Horror|Science Fiction</td>\n",
       "      <td>18440.0</td>\n",
       "      <td>en</td>\n",
       "      <td>NaN</td>\n",
       "      <td>1.436085</td>\n",
       "      <td>/tWCyKXHuSrQdLAvNeeVJBnhf1Yv.jpg</td>\n",
       "      <td></td>\n",
       "      <td>United States of America</td>\n",
       "      <td>2007-01-01</td>\n",
       "      <td>0.0</td>\n",
       "      <td>89.0</td>\n",
       "      <td>English</td>\n",
       "      <td>Released</td>\n",
       "      <td>NaN</td>\n",
       "      <td>Days of Darkness</td>\n",
       "      <td>5.0</td>\n",
       "      <td>5.0</td>\n",
       "    </tr>\n",
       "    <tr>\n",
       "      <th>14000</th>\n",
       "      <td>NaN</td>\n",
       "      <td>NaN</td>\n",
       "      <td>Action|Horror|Science Fiction</td>\n",
       "      <td>18440.0</td>\n",
       "      <td>en</td>\n",
       "      <td>NaN</td>\n",
       "      <td>1.436085</td>\n",
       "      <td>/tWCyKXHuSrQdLAvNeeVJBnhf1Yv.jpg</td>\n",
       "      <td></td>\n",
       "      <td>United States of America</td>\n",
       "      <td>2007-01-01</td>\n",
       "      <td>0.0</td>\n",
       "      <td>89.0</td>\n",
       "      <td>English</td>\n",
       "      <td>Released</td>\n",
       "      <td>NaN</td>\n",
       "      <td>Days of Darkness</td>\n",
       "      <td>5.0</td>\n",
       "      <td>5.0</td>\n",
       "    </tr>\n",
       "    <tr>\n",
       "      <th>8068</th>\n",
       "      <td>NaN</td>\n",
       "      <td>NaN</td>\n",
       "      <td>Adventure|Animation|Drama|Action|Foreign</td>\n",
       "      <td>23305.0</td>\n",
       "      <td>en</td>\n",
       "      <td>NaN</td>\n",
       "      <td>1.967992</td>\n",
       "      <td>/9GlrmbZO7VGyqhaSR1utinRJz3L.jpg</td>\n",
       "      <td>Filmfour</td>\n",
       "      <td>France|Germany|India|United Kingdom</td>\n",
       "      <td>2001-09-23</td>\n",
       "      <td>0.0</td>\n",
       "      <td>86.0</td>\n",
       "      <td>हिन्दी</td>\n",
       "      <td>Released</td>\n",
       "      <td>NaN</td>\n",
       "      <td>The Warrior</td>\n",
       "      <td>6.3</td>\n",
       "      <td>15.0</td>\n",
       "    </tr>\n",
       "    <tr>\n",
       "      <th>9327</th>\n",
       "      <td>NaN</td>\n",
       "      <td>NaN</td>\n",
       "      <td>Adventure|Animation|Drama|Action|Foreign</td>\n",
       "      <td>23305.0</td>\n",
       "      <td>en</td>\n",
       "      <td>NaN</td>\n",
       "      <td>1.967992</td>\n",
       "      <td>/9GlrmbZO7VGyqhaSR1utinRJz3L.jpg</td>\n",
       "      <td>Filmfour</td>\n",
       "      <td>France|Germany|India|United Kingdom</td>\n",
       "      <td>2001-09-23</td>\n",
       "      <td>0.0</td>\n",
       "      <td>86.0</td>\n",
       "      <td>हिन्दी</td>\n",
       "      <td>Released</td>\n",
       "      <td>NaN</td>\n",
       "      <td>The Warrior</td>\n",
       "      <td>6.3</td>\n",
       "      <td>15.0</td>\n",
       "    </tr>\n",
       "    <tr>\n",
       "      <th>17229</th>\n",
       "      <td>NaN</td>\n",
       "      <td>NaN</td>\n",
       "      <td>Drama</td>\n",
       "      <td>25541.0</td>\n",
       "      <td>da</td>\n",
       "      <td>NaN</td>\n",
       "      <td>2.587911</td>\n",
       "      <td>/q19Q5BRZpMXoNCA4OYodVozfjUh.jpg</td>\n",
       "      <td></td>\n",
       "      <td>Sweden|Denmark</td>\n",
       "      <td>2009-10-21</td>\n",
       "      <td>0.0</td>\n",
       "      <td>90.0</td>\n",
       "      <td>Dansk</td>\n",
       "      <td>Released</td>\n",
       "      <td>NaN</td>\n",
       "      <td>Brotherhood</td>\n",
       "      <td>7.1</td>\n",
       "      <td>21.0</td>\n",
       "    </tr>\n",
       "    <tr>\n",
       "      <th>23044</th>\n",
       "      <td>NaN</td>\n",
       "      <td>NaN</td>\n",
       "      <td>Drama</td>\n",
       "      <td>25541.0</td>\n",
       "      <td>da</td>\n",
       "      <td>NaN</td>\n",
       "      <td>2.587911</td>\n",
       "      <td>/q19Q5BRZpMXoNCA4OYodVozfjUh.jpg</td>\n",
       "      <td></td>\n",
       "      <td>Sweden|Denmark</td>\n",
       "      <td>2009-10-21</td>\n",
       "      <td>0.0</td>\n",
       "      <td>90.0</td>\n",
       "      <td>Dansk</td>\n",
       "      <td>Released</td>\n",
       "      <td>NaN</td>\n",
       "      <td>Brotherhood</td>\n",
       "      <td>7.1</td>\n",
       "      <td>21.0</td>\n",
       "    </tr>\n",
       "    <tr>\n",
       "      <th>29374</th>\n",
       "      <td>NaN</td>\n",
       "      <td>NaN</td>\n",
       "      <td>Drama|Foreign</td>\n",
       "      <td>42495.0</td>\n",
       "      <td>en</td>\n",
       "      <td>NaN</td>\n",
       "      <td>0.187901</td>\n",
       "      <td>/xuE1IlUCohbxMY0fiqKTT6d013n.jpg</td>\n",
       "      <td>Royal Shakespeare Company|Laterna Film|Athena ...</td>\n",
       "      <td>Denmark|United Kingdom</td>\n",
       "      <td>1971-02-04</td>\n",
       "      <td>0.0</td>\n",
       "      <td>137.0</td>\n",
       "      <td>English</td>\n",
       "      <td>Rumored</td>\n",
       "      <td>NaN</td>\n",
       "      <td>King Lear</td>\n",
       "      <td>8.0</td>\n",
       "      <td>3.0</td>\n",
       "    </tr>\n",
       "    <tr>\n",
       "      <th>15702</th>\n",
       "      <td>NaN</td>\n",
       "      <td>NaN</td>\n",
       "      <td>Drama|Foreign</td>\n",
       "      <td>42495.0</td>\n",
       "      <td>en</td>\n",
       "      <td>NaN</td>\n",
       "      <td>0.187901</td>\n",
       "      <td>/xuE1IlUCohbxMY0fiqKTT6d013n.jpg</td>\n",
       "      <td>Royal Shakespeare Company|Laterna Film|Athena ...</td>\n",
       "      <td>Denmark|United Kingdom</td>\n",
       "      <td>1971-02-04</td>\n",
       "      <td>0.0</td>\n",
       "      <td>137.0</td>\n",
       "      <td>English</td>\n",
       "      <td>Rumored</td>\n",
       "      <td>NaN</td>\n",
       "      <td>King Lear</td>\n",
       "      <td>8.0</td>\n",
       "      <td>3.0</td>\n",
       "    </tr>\n",
       "    <tr>\n",
       "      <th>13946</th>\n",
       "      <td>NaN</td>\n",
       "      <td>NaN</td>\n",
       "      <td>Comedy</td>\n",
       "      <td>97995.0</td>\n",
       "      <td>en</td>\n",
       "      <td>NaN</td>\n",
       "      <td>0.141558</td>\n",
       "      <td>/4J6Ai4C5YRgfRUTlirrJ7QsmJKU.jpg</td>\n",
       "      <td>Max Linder Productions</td>\n",
       "      <td>United States of America</td>\n",
       "      <td>1921-02-06</td>\n",
       "      <td>0.0</td>\n",
       "      <td>62.0</td>\n",
       "      <td>English</td>\n",
       "      <td>Released</td>\n",
       "      <td>NaN</td>\n",
       "      <td>Seven Years Bad Luck</td>\n",
       "      <td>5.6</td>\n",
       "      <td>4.0</td>\n",
       "    </tr>\n",
       "    <tr>\n",
       "      <th>40276</th>\n",
       "      <td>NaN</td>\n",
       "      <td>NaN</td>\n",
       "      <td>Comedy</td>\n",
       "      <td>97995.0</td>\n",
       "      <td>en</td>\n",
       "      <td>NaN</td>\n",
       "      <td>0.141558</td>\n",
       "      <td>/4J6Ai4C5YRgfRUTlirrJ7QsmJKU.jpg</td>\n",
       "      <td>Max Linder Productions</td>\n",
       "      <td>United States of America</td>\n",
       "      <td>1921-02-06</td>\n",
       "      <td>0.0</td>\n",
       "      <td>62.0</td>\n",
       "      <td>English</td>\n",
       "      <td>Released</td>\n",
       "      <td>NaN</td>\n",
       "      <td>Seven Years Bad Luck</td>\n",
       "      <td>5.6</td>\n",
       "      <td>4.0</td>\n",
       "    </tr>\n",
       "    <tr>\n",
       "      <th>38871</th>\n",
       "      <td>NaN</td>\n",
       "      <td>NaN</td>\n",
       "      <td>Action|Drama|Romance|Adventure</td>\n",
       "      <td>99080.0</td>\n",
       "      <td>en</td>\n",
       "      <td>NaN</td>\n",
       "      <td>0.002362</td>\n",
       "      <td>/qenjwRvW9itR5pVp4CBkYfhVAOp.jpg</td>\n",
       "      <td></td>\n",
       "      <td></td>\n",
       "      <td>1931-06-21</td>\n",
       "      <td>0.0</td>\n",
       "      <td>70.0</td>\n",
       "      <td>English</td>\n",
       "      <td>Released</td>\n",
       "      <td>Actually produced during the Great Newfoundlan...</td>\n",
       "      <td>The Viking</td>\n",
       "      <td>NaN</td>\n",
       "      <td>0.0</td>\n",
       "    </tr>\n",
       "    <tr>\n",
       "      <th>16167</th>\n",
       "      <td>NaN</td>\n",
       "      <td>NaN</td>\n",
       "      <td>Action|Drama|Romance|Adventure</td>\n",
       "      <td>99080.0</td>\n",
       "      <td>en</td>\n",
       "      <td>NaN</td>\n",
       "      <td>0.002362</td>\n",
       "      <td>/qenjwRvW9itR5pVp4CBkYfhVAOp.jpg</td>\n",
       "      <td></td>\n",
       "      <td></td>\n",
       "      <td>1931-06-21</td>\n",
       "      <td>0.0</td>\n",
       "      <td>70.0</td>\n",
       "      <td>English</td>\n",
       "      <td>Released</td>\n",
       "      <td>Actually produced during the Great Newfoundlan...</td>\n",
       "      <td>The Viking</td>\n",
       "      <td>NaN</td>\n",
       "      <td>0.0</td>\n",
       "    </tr>\n",
       "    <tr>\n",
       "      <th>676</th>\n",
       "      <td>NaN</td>\n",
       "      <td>NaN</td>\n",
       "      <td>Drama|Romance</td>\n",
       "      <td>105045.0</td>\n",
       "      <td>de</td>\n",
       "      <td>NaN</td>\n",
       "      <td>0.122178</td>\n",
       "      <td>/5WFIrBhOOgc0jGmoLxMZwWqCctO.jpg</td>\n",
       "      <td>Studio Babelsberg|Centre National de la Cinéma...</td>\n",
       "      <td>Germany</td>\n",
       "      <td>1995-02-16</td>\n",
       "      <td>0.0</td>\n",
       "      <td>115.0</td>\n",
       "      <td>Deutsch</td>\n",
       "      <td>Released</td>\n",
       "      <td>A love, a hope, a wall.</td>\n",
       "      <td>The Promise</td>\n",
       "      <td>5.0</td>\n",
       "      <td>1.0</td>\n",
       "    </tr>\n",
       "    <tr>\n",
       "      <th>1465</th>\n",
       "      <td>NaN</td>\n",
       "      <td>NaN</td>\n",
       "      <td>Drama|Romance</td>\n",
       "      <td>105045.0</td>\n",
       "      <td>de</td>\n",
       "      <td>NaN</td>\n",
       "      <td>0.122178</td>\n",
       "      <td>/5WFIrBhOOgc0jGmoLxMZwWqCctO.jpg</td>\n",
       "      <td>Studio Babelsberg|Centre National de la Cinéma...</td>\n",
       "      <td>Germany</td>\n",
       "      <td>1995-02-16</td>\n",
       "      <td>0.0</td>\n",
       "      <td>115.0</td>\n",
       "      <td>Deutsch</td>\n",
       "      <td>Released</td>\n",
       "      <td>A love, a hope, a wall.</td>\n",
       "      <td>The Promise</td>\n",
       "      <td>5.0</td>\n",
       "      <td>1.0</td>\n",
       "    </tr>\n",
       "    <tr>\n",
       "      <th>19890</th>\n",
       "      <td>NaN</td>\n",
       "      <td>NaN</td>\n",
       "      <td>Fantasy|Drama|Science Fiction</td>\n",
       "      <td>119916.0</td>\n",
       "      <td>en</td>\n",
       "      <td>NaN</td>\n",
       "      <td>0.000018</td>\n",
       "      <td>/gLVRTxaLtUDkfscFKPyYrCtRnTk.jpg</td>\n",
       "      <td></td>\n",
       "      <td></td>\n",
       "      <td>1980-02-27</td>\n",
       "      <td>0.0</td>\n",
       "      <td>123.0</td>\n",
       "      <td></td>\n",
       "      <td>Released</td>\n",
       "      <td>NaN</td>\n",
       "      <td>The Tempest</td>\n",
       "      <td>NaN</td>\n",
       "      <td>0.0</td>\n",
       "    </tr>\n",
       "    <tr>\n",
       "      <th>21165</th>\n",
       "      <td>NaN</td>\n",
       "      <td>NaN</td>\n",
       "      <td>Fantasy|Drama|Science Fiction</td>\n",
       "      <td>119916.0</td>\n",
       "      <td>en</td>\n",
       "      <td>NaN</td>\n",
       "      <td>0.000018</td>\n",
       "      <td>/gLVRTxaLtUDkfscFKPyYrCtRnTk.jpg</td>\n",
       "      <td></td>\n",
       "      <td></td>\n",
       "      <td>1980-02-27</td>\n",
       "      <td>0.0</td>\n",
       "      <td>123.0</td>\n",
       "      <td></td>\n",
       "      <td>Released</td>\n",
       "      <td>NaN</td>\n",
       "      <td>The Tempest</td>\n",
       "      <td>NaN</td>\n",
       "      <td>0.0</td>\n",
       "    </tr>\n",
       "    <tr>\n",
       "      <th>13375</th>\n",
       "      <td>NaN</td>\n",
       "      <td>NaN</td>\n",
       "      <td>Thriller|Mystery</td>\n",
       "      <td>141971.0</td>\n",
       "      <td>fi</td>\n",
       "      <td>NaN</td>\n",
       "      <td>0.411949</td>\n",
       "      <td>/8VSZ9coCzxOCW2wE2Qene1H1fKO.jpg</td>\n",
       "      <td>Filmiteollisuus Fine</td>\n",
       "      <td>Finland</td>\n",
       "      <td>2008-12-26</td>\n",
       "      <td>0.0</td>\n",
       "      <td>108.0</td>\n",
       "      <td>suomi</td>\n",
       "      <td>Released</td>\n",
       "      <td>Which one is the first to return - memory or t...</td>\n",
       "      <td>Blackout</td>\n",
       "      <td>6.7</td>\n",
       "      <td>3.0</td>\n",
       "    </tr>\n",
       "    <tr>\n",
       "      <th>13261</th>\n",
       "      <td>NaN</td>\n",
       "      <td>NaN</td>\n",
       "      <td>Thriller|Mystery</td>\n",
       "      <td>141971.0</td>\n",
       "      <td>fi</td>\n",
       "      <td>NaN</td>\n",
       "      <td>0.411949</td>\n",
       "      <td>/8VSZ9coCzxOCW2wE2Qene1H1fKO.jpg</td>\n",
       "      <td>Filmiteollisuus Fine</td>\n",
       "      <td>Finland</td>\n",
       "      <td>2008-12-26</td>\n",
       "      <td>0.0</td>\n",
       "      <td>108.0</td>\n",
       "      <td>suomi</td>\n",
       "      <td>Released</td>\n",
       "      <td>Which one is the first to return - memory or t...</td>\n",
       "      <td>Blackout</td>\n",
       "      <td>6.7</td>\n",
       "      <td>3.0</td>\n",
       "    </tr>\n",
       "    <tr>\n",
       "      <th>16764</th>\n",
       "      <td>NaN</td>\n",
       "      <td>NaN</td>\n",
       "      <td>Thriller|Mystery</td>\n",
       "      <td>141971.0</td>\n",
       "      <td>fi</td>\n",
       "      <td>NaN</td>\n",
       "      <td>0.411949</td>\n",
       "      <td>/8VSZ9coCzxOCW2wE2Qene1H1fKO.jpg</td>\n",
       "      <td>Filmiteollisuus Fine</td>\n",
       "      <td>Finland</td>\n",
       "      <td>2008-12-26</td>\n",
       "      <td>0.0</td>\n",
       "      <td>108.0</td>\n",
       "      <td>suomi</td>\n",
       "      <td>Released</td>\n",
       "      <td>Which one is the first to return - memory or t...</td>\n",
       "      <td>Blackout</td>\n",
       "      <td>6.7</td>\n",
       "      <td>3.0</td>\n",
       "    </tr>\n",
       "    <tr>\n",
       "      <th>19925</th>\n",
       "      <td>NaN</td>\n",
       "      <td>NaN</td>\n",
       "      <td>Drama|Science Fiction|Animation</td>\n",
       "      <td>152795.0</td>\n",
       "      <td>en</td>\n",
       "      <td>NaN</td>\n",
       "      <td>8.534039</td>\n",
       "      <td>/nnKX3ahYoT7P3au92dNgLf4pKwA.jpg</td>\n",
       "      <td>Pandora Filmproduktion|Entre Chien et Loup|Opu...</td>\n",
       "      <td>Belgium|France|Germany|Israel|Luxembourg|Poland</td>\n",
       "      <td>2013-05-16</td>\n",
       "      <td>455815.0</td>\n",
       "      <td>122.0</td>\n",
       "      <td>English</td>\n",
       "      <td>Released</td>\n",
       "      <td>NaN</td>\n",
       "      <td>The Congress</td>\n",
       "      <td>6.4</td>\n",
       "      <td>165.0</td>\n",
       "    </tr>\n",
       "    <tr>\n",
       "      <th>21854</th>\n",
       "      <td>NaN</td>\n",
       "      <td>NaN</td>\n",
       "      <td>Drama|Science Fiction|Animation</td>\n",
       "      <td>152795.0</td>\n",
       "      <td>en</td>\n",
       "      <td>NaN</td>\n",
       "      <td>8.534039</td>\n",
       "      <td>/nnKX3ahYoT7P3au92dNgLf4pKwA.jpg</td>\n",
       "      <td>Pandora Filmproduktion|Entre Chien et Loup|Opu...</td>\n",
       "      <td>Belgium|France|Germany|Israel|Luxembourg|Poland</td>\n",
       "      <td>2013-05-16</td>\n",
       "      <td>455815.0</td>\n",
       "      <td>122.0</td>\n",
       "      <td>English</td>\n",
       "      <td>Released</td>\n",
       "      <td>NaN</td>\n",
       "      <td>The Congress</td>\n",
       "      <td>6.4</td>\n",
       "      <td>165.0</td>\n",
       "    </tr>\n",
       "    <tr>\n",
       "      <th>13220</th>\n",
       "      <td>Why We Fight</td>\n",
       "      <td>NaN</td>\n",
       "      <td>Documentary</td>\n",
       "      <td>159849.0</td>\n",
       "      <td>en</td>\n",
       "      <td>NaN</td>\n",
       "      <td>0.473322</td>\n",
       "      <td>/g21ruZZ3BZeUDuKMb82kejjtufk.jpg</td>\n",
       "      <td></td>\n",
       "      <td>United States of America</td>\n",
       "      <td>1943-01-01</td>\n",
       "      <td>0.0</td>\n",
       "      <td>57.0</td>\n",
       "      <td>English</td>\n",
       "      <td>Released</td>\n",
       "      <td>NaN</td>\n",
       "      <td>Why We Fight: Divide and Conquer</td>\n",
       "      <td>5.0</td>\n",
       "      <td>1.0</td>\n",
       "    </tr>\n",
       "    <tr>\n",
       "      <th>35798</th>\n",
       "      <td>Why We Fight</td>\n",
       "      <td>NaN</td>\n",
       "      <td>Documentary</td>\n",
       "      <td>159849.0</td>\n",
       "      <td>en</td>\n",
       "      <td>NaN</td>\n",
       "      <td>0.473322</td>\n",
       "      <td>/g21ruZZ3BZeUDuKMb82kejjtufk.jpg</td>\n",
       "      <td></td>\n",
       "      <td>United States of America</td>\n",
       "      <td>1943-01-01</td>\n",
       "      <td>0.0</td>\n",
       "      <td>57.0</td>\n",
       "      <td>English</td>\n",
       "      <td>Released</td>\n",
       "      <td>NaN</td>\n",
       "      <td>Why We Fight: Divide and Conquer</td>\n",
       "      <td>5.0</td>\n",
       "      <td>1.0</td>\n",
       "    </tr>\n",
       "    <tr>\n",
       "      <th>13603</th>\n",
       "      <td>NaN</td>\n",
       "      <td>NaN</td>\n",
       "      <td>Drama|Comedy</td>\n",
       "      <td>168538.0</td>\n",
       "      <td>en</td>\n",
       "      <td>NaN</td>\n",
       "      <td>1.276602</td>\n",
       "      <td>/pg4PUHRFrgNfACHSh5MITQ2gYch.jpg</td>\n",
       "      <td>Cannon Group|Metro-Goldwyn-Mayer (MGM)</td>\n",
       "      <td></td>\n",
       "      <td>1983-06-13</td>\n",
       "      <td>0.0</td>\n",
       "      <td>92.0</td>\n",
       "      <td></td>\n",
       "      <td>Released</td>\n",
       "      <td>NaN</td>\n",
       "      <td>Nana, the True Key of Pleasure</td>\n",
       "      <td>4.7</td>\n",
       "      <td>3.0</td>\n",
       "    </tr>\n",
       "    <tr>\n",
       "      <th>28860</th>\n",
       "      <td>NaN</td>\n",
       "      <td>NaN</td>\n",
       "      <td>Drama|Comedy</td>\n",
       "      <td>168538.0</td>\n",
       "      <td>en</td>\n",
       "      <td>NaN</td>\n",
       "      <td>1.276602</td>\n",
       "      <td>/pg4PUHRFrgNfACHSh5MITQ2gYch.jpg</td>\n",
       "      <td>Cannon Group|Metro-Goldwyn-Mayer (MGM)</td>\n",
       "      <td></td>\n",
       "      <td>1983-06-13</td>\n",
       "      <td>0.0</td>\n",
       "      <td>92.0</td>\n",
       "      <td></td>\n",
       "      <td>Released</td>\n",
       "      <td>NaN</td>\n",
       "      <td>Nana, the True Key of Pleasure</td>\n",
       "      <td>4.7</td>\n",
       "      <td>3.0</td>\n",
       "    </tr>\n",
       "    <tr>\n",
       "      <th>24164</th>\n",
       "      <td>NaN</td>\n",
       "      <td>NaN</td>\n",
       "      <td>Comedy|Drama</td>\n",
       "      <td>265189.0</td>\n",
       "      <td>sv</td>\n",
       "      <td>NaN</td>\n",
       "      <td>12.165685</td>\n",
       "      <td>/rGMtc9AtZsnWSSL5VnLaGvx1PI6.jpg</td>\n",
       "      <td>Motlys|Coproduction Office|Film i Väst</td>\n",
       "      <td>Norway|Sweden|France</td>\n",
       "      <td>2014-08-15</td>\n",
       "      <td>1359497.0</td>\n",
       "      <td>118.0</td>\n",
       "      <td>Français|Norsk|svenska|English</td>\n",
       "      <td>Released</td>\n",
       "      <td>NaN</td>\n",
       "      <td>Force Majeure</td>\n",
       "      <td>6.8</td>\n",
       "      <td>255.0</td>\n",
       "    </tr>\n",
       "    <tr>\n",
       "      <th>45265</th>\n",
       "      <td>NaN</td>\n",
       "      <td>NaN</td>\n",
       "      <td>Comedy|Drama</td>\n",
       "      <td>265189.0</td>\n",
       "      <td>sv</td>\n",
       "      <td>NaN</td>\n",
       "      <td>12.165685</td>\n",
       "      <td>/rGMtc9AtZsnWSSL5VnLaGvx1PI6.jpg</td>\n",
       "      <td>Motlys|Coproduction Office|Film i Väst</td>\n",
       "      <td>Norway|Sweden|France</td>\n",
       "      <td>2014-08-15</td>\n",
       "      <td>1359497.0</td>\n",
       "      <td>118.0</td>\n",
       "      <td>Français|Norsk|svenska|English</td>\n",
       "      <td>Released</td>\n",
       "      <td>NaN</td>\n",
       "      <td>Force Majeure</td>\n",
       "      <td>6.8</td>\n",
       "      <td>255.0</td>\n",
       "    </tr>\n",
       "    <tr>\n",
       "      <th>33184</th>\n",
       "      <td>NaN</td>\n",
       "      <td>0.98</td>\n",
       "      <td>Drama|Fantasy</td>\n",
       "      <td>298721.0</td>\n",
       "      <td>th</td>\n",
       "      <td>NaN</td>\n",
       "      <td>2.535419</td>\n",
       "      <td>/5GasjPRAy5rlEyDOH7MeOyxyQGX.jpg</td>\n",
       "      <td>Match Factory, The|Louverture Films|Tordenfilm...</td>\n",
       "      <td>United Kingdom|United States of America|France...</td>\n",
       "      <td>2015-09-02</td>\n",
       "      <td>0.0</td>\n",
       "      <td>122.0</td>\n",
       "      <td>English|ภาษาไทย</td>\n",
       "      <td>Released</td>\n",
       "      <td>NaN</td>\n",
       "      <td>Cemetery of Splendour</td>\n",
       "      <td>4.4</td>\n",
       "      <td>50.0</td>\n",
       "    </tr>\n",
       "    <tr>\n",
       "      <th>40040</th>\n",
       "      <td>NaN</td>\n",
       "      <td>0.98</td>\n",
       "      <td>Drama|Fantasy</td>\n",
       "      <td>298721.0</td>\n",
       "      <td>th</td>\n",
       "      <td>NaN</td>\n",
       "      <td>2.535419</td>\n",
       "      <td>/5GasjPRAy5rlEyDOH7MeOyxyQGX.jpg</td>\n",
       "      <td>Match Factory, The|Louverture Films|Tordenfilm...</td>\n",
       "      <td>United Kingdom|United States of America|France...</td>\n",
       "      <td>2015-09-02</td>\n",
       "      <td>0.0</td>\n",
       "      <td>122.0</td>\n",
       "      <td>English|ภาษาไทย</td>\n",
       "      <td>Released</td>\n",
       "      <td>NaN</td>\n",
       "      <td>Cemetery of Splendour</td>\n",
       "      <td>4.4</td>\n",
       "      <td>50.0</td>\n",
       "    </tr>\n",
       "  </tbody>\n",
       "</table>\n",
       "</div>"
      ],
      "text/plain": [
       "      belongs_to_collection  budget                                    genres  \\\n",
       "7345                    NaN     NaN                      Crime|Drama|Thriller   \n",
       "9165                    NaN     NaN                      Crime|Drama|Thriller   \n",
       "24844                   NaN     NaN                              Comedy|Drama   \n",
       "14012                   NaN     NaN                              Comedy|Drama   \n",
       "22151                   NaN     NaN             Action|Horror|Science Fiction   \n",
       "14000                   NaN     NaN             Action|Horror|Science Fiction   \n",
       "8068                    NaN     NaN  Adventure|Animation|Drama|Action|Foreign   \n",
       "9327                    NaN     NaN  Adventure|Animation|Drama|Action|Foreign   \n",
       "17229                   NaN     NaN                                     Drama   \n",
       "23044                   NaN     NaN                                     Drama   \n",
       "29374                   NaN     NaN                             Drama|Foreign   \n",
       "15702                   NaN     NaN                             Drama|Foreign   \n",
       "13946                   NaN     NaN                                    Comedy   \n",
       "40276                   NaN     NaN                                    Comedy   \n",
       "38871                   NaN     NaN            Action|Drama|Romance|Adventure   \n",
       "16167                   NaN     NaN            Action|Drama|Romance|Adventure   \n",
       "676                     NaN     NaN                             Drama|Romance   \n",
       "1465                    NaN     NaN                             Drama|Romance   \n",
       "19890                   NaN     NaN             Fantasy|Drama|Science Fiction   \n",
       "21165                   NaN     NaN             Fantasy|Drama|Science Fiction   \n",
       "13375                   NaN     NaN                          Thriller|Mystery   \n",
       "13261                   NaN     NaN                          Thriller|Mystery   \n",
       "16764                   NaN     NaN                          Thriller|Mystery   \n",
       "19925                   NaN     NaN           Drama|Science Fiction|Animation   \n",
       "21854                   NaN     NaN           Drama|Science Fiction|Animation   \n",
       "13220          Why We Fight     NaN                               Documentary   \n",
       "35798          Why We Fight     NaN                               Documentary   \n",
       "13603                   NaN     NaN                              Drama|Comedy   \n",
       "28860                   NaN     NaN                              Drama|Comedy   \n",
       "24164                   NaN     NaN                              Comedy|Drama   \n",
       "45265                   NaN     NaN                              Comedy|Drama   \n",
       "33184                   NaN    0.98                             Drama|Fantasy   \n",
       "40040                   NaN    0.98                             Drama|Fantasy   \n",
       "\n",
       "             id original_language  overview  popularity  \\\n",
       "7345     5511.0                fr       NaN    9.091288   \n",
       "9165     5511.0                fr       NaN    9.091288   \n",
       "24844   11115.0                en       NaN    6.880365   \n",
       "14012   11115.0                en       NaN    6.880365   \n",
       "22151   18440.0                en       NaN    1.436085   \n",
       "14000   18440.0                en       NaN    1.436085   \n",
       "8068    23305.0                en       NaN    1.967992   \n",
       "9327    23305.0                en       NaN    1.967992   \n",
       "17229   25541.0                da       NaN    2.587911   \n",
       "23044   25541.0                da       NaN    2.587911   \n",
       "29374   42495.0                en       NaN    0.187901   \n",
       "15702   42495.0                en       NaN    0.187901   \n",
       "13946   97995.0                en       NaN    0.141558   \n",
       "40276   97995.0                en       NaN    0.141558   \n",
       "38871   99080.0                en       NaN    0.002362   \n",
       "16167   99080.0                en       NaN    0.002362   \n",
       "676    105045.0                de       NaN    0.122178   \n",
       "1465   105045.0                de       NaN    0.122178   \n",
       "19890  119916.0                en       NaN    0.000018   \n",
       "21165  119916.0                en       NaN    0.000018   \n",
       "13375  141971.0                fi       NaN    0.411949   \n",
       "13261  141971.0                fi       NaN    0.411949   \n",
       "16764  141971.0                fi       NaN    0.411949   \n",
       "19925  152795.0                en       NaN    8.534039   \n",
       "21854  152795.0                en       NaN    8.534039   \n",
       "13220  159849.0                en       NaN    0.473322   \n",
       "35798  159849.0                en       NaN    0.473322   \n",
       "13603  168538.0                en       NaN    1.276602   \n",
       "28860  168538.0                en       NaN    1.276602   \n",
       "24164  265189.0                sv       NaN   12.165685   \n",
       "45265  265189.0                sv       NaN   12.165685   \n",
       "33184  298721.0                th       NaN    2.535419   \n",
       "40040  298721.0                th       NaN    2.535419   \n",
       "\n",
       "                            poster_path  \\\n",
       "7345   /cvNW8IXigbaMNo4gKEIps0NGnhA.jpg   \n",
       "9165   /cvNW8IXigbaMNo4gKEIps0NGnhA.jpg   \n",
       "24844  /kHaBqrrozaG7rj6GJg3sUCiM29B.jpg   \n",
       "14012  /kHaBqrrozaG7rj6GJg3sUCiM29B.jpg   \n",
       "22151  /tWCyKXHuSrQdLAvNeeVJBnhf1Yv.jpg   \n",
       "14000  /tWCyKXHuSrQdLAvNeeVJBnhf1Yv.jpg   \n",
       "8068   /9GlrmbZO7VGyqhaSR1utinRJz3L.jpg   \n",
       "9327   /9GlrmbZO7VGyqhaSR1utinRJz3L.jpg   \n",
       "17229  /q19Q5BRZpMXoNCA4OYodVozfjUh.jpg   \n",
       "23044  /q19Q5BRZpMXoNCA4OYodVozfjUh.jpg   \n",
       "29374  /xuE1IlUCohbxMY0fiqKTT6d013n.jpg   \n",
       "15702  /xuE1IlUCohbxMY0fiqKTT6d013n.jpg   \n",
       "13946  /4J6Ai4C5YRgfRUTlirrJ7QsmJKU.jpg   \n",
       "40276  /4J6Ai4C5YRgfRUTlirrJ7QsmJKU.jpg   \n",
       "38871  /qenjwRvW9itR5pVp4CBkYfhVAOp.jpg   \n",
       "16167  /qenjwRvW9itR5pVp4CBkYfhVAOp.jpg   \n",
       "676    /5WFIrBhOOgc0jGmoLxMZwWqCctO.jpg   \n",
       "1465   /5WFIrBhOOgc0jGmoLxMZwWqCctO.jpg   \n",
       "19890  /gLVRTxaLtUDkfscFKPyYrCtRnTk.jpg   \n",
       "21165  /gLVRTxaLtUDkfscFKPyYrCtRnTk.jpg   \n",
       "13375  /8VSZ9coCzxOCW2wE2Qene1H1fKO.jpg   \n",
       "13261  /8VSZ9coCzxOCW2wE2Qene1H1fKO.jpg   \n",
       "16764  /8VSZ9coCzxOCW2wE2Qene1H1fKO.jpg   \n",
       "19925  /nnKX3ahYoT7P3au92dNgLf4pKwA.jpg   \n",
       "21854  /nnKX3ahYoT7P3au92dNgLf4pKwA.jpg   \n",
       "13220  /g21ruZZ3BZeUDuKMb82kejjtufk.jpg   \n",
       "35798  /g21ruZZ3BZeUDuKMb82kejjtufk.jpg   \n",
       "13603  /pg4PUHRFrgNfACHSh5MITQ2gYch.jpg   \n",
       "28860  /pg4PUHRFrgNfACHSh5MITQ2gYch.jpg   \n",
       "24164  /rGMtc9AtZsnWSSL5VnLaGvx1PI6.jpg   \n",
       "45265  /rGMtc9AtZsnWSSL5VnLaGvx1PI6.jpg   \n",
       "33184  /5GasjPRAy5rlEyDOH7MeOyxyQGX.jpg   \n",
       "40040  /5GasjPRAy5rlEyDOH7MeOyxyQGX.jpg   \n",
       "\n",
       "                                    production_companies  \\\n",
       "7345   Fida cinematografica|Compagnie Industrielle et...   \n",
       "9165   Fida cinematografica|Compagnie Industrielle et...   \n",
       "24844  Andertainment Group|Crescent City Pictures|Tag...   \n",
       "14012  Andertainment Group|Crescent City Pictures|Tag...   \n",
       "22151                                                      \n",
       "14000                                                      \n",
       "8068                                            Filmfour   \n",
       "9327                                            Filmfour   \n",
       "17229                                                      \n",
       "23044                                                      \n",
       "29374  Royal Shakespeare Company|Laterna Film|Athena ...   \n",
       "15702  Royal Shakespeare Company|Laterna Film|Athena ...   \n",
       "13946                             Max Linder Productions   \n",
       "40276                             Max Linder Productions   \n",
       "38871                                                      \n",
       "16167                                                      \n",
       "676    Studio Babelsberg|Centre National de la Cinéma...   \n",
       "1465   Studio Babelsberg|Centre National de la Cinéma...   \n",
       "19890                                                      \n",
       "21165                                                      \n",
       "13375                               Filmiteollisuus Fine   \n",
       "13261                               Filmiteollisuus Fine   \n",
       "16764                               Filmiteollisuus Fine   \n",
       "19925  Pandora Filmproduktion|Entre Chien et Loup|Opu...   \n",
       "21854  Pandora Filmproduktion|Entre Chien et Loup|Opu...   \n",
       "13220                                                      \n",
       "35798                                                      \n",
       "13603             Cannon Group|Metro-Goldwyn-Mayer (MGM)   \n",
       "28860             Cannon Group|Metro-Goldwyn-Mayer (MGM)   \n",
       "24164             Motlys|Coproduction Office|Film i Väst   \n",
       "45265             Motlys|Coproduction Office|Film i Väst   \n",
       "33184  Match Factory, The|Louverture Films|Tordenfilm...   \n",
       "40040  Match Factory, The|Louverture Films|Tordenfilm...   \n",
       "\n",
       "                                    production_countries release_date  \\\n",
       "7345                                        France|Italy   1967-10-25   \n",
       "9165                                        France|Italy   1967-10-25   \n",
       "24844                           United States of America   2008-01-29   \n",
       "14012                           United States of America   2008-01-29   \n",
       "22151                           United States of America   2007-01-01   \n",
       "14000                           United States of America   2007-01-01   \n",
       "8068                 France|Germany|India|United Kingdom   2001-09-23   \n",
       "9327                 France|Germany|India|United Kingdom   2001-09-23   \n",
       "17229                                     Sweden|Denmark   2009-10-21   \n",
       "23044                                     Sweden|Denmark   2009-10-21   \n",
       "29374                             Denmark|United Kingdom   1971-02-04   \n",
       "15702                             Denmark|United Kingdom   1971-02-04   \n",
       "13946                           United States of America   1921-02-06   \n",
       "40276                           United States of America   1921-02-06   \n",
       "38871                                                      1931-06-21   \n",
       "16167                                                      1931-06-21   \n",
       "676                                              Germany   1995-02-16   \n",
       "1465                                             Germany   1995-02-16   \n",
       "19890                                                      1980-02-27   \n",
       "21165                                                      1980-02-27   \n",
       "13375                                            Finland   2008-12-26   \n",
       "13261                                            Finland   2008-12-26   \n",
       "16764                                            Finland   2008-12-26   \n",
       "19925    Belgium|France|Germany|Israel|Luxembourg|Poland   2013-05-16   \n",
       "21854    Belgium|France|Germany|Israel|Luxembourg|Poland   2013-05-16   \n",
       "13220                           United States of America   1943-01-01   \n",
       "35798                           United States of America   1943-01-01   \n",
       "13603                                                      1983-06-13   \n",
       "28860                                                      1983-06-13   \n",
       "24164                               Norway|Sweden|France   2014-08-15   \n",
       "45265                               Norway|Sweden|France   2014-08-15   \n",
       "33184  United Kingdom|United States of America|France...   2015-09-02   \n",
       "40040  United Kingdom|United States of America|France...   2015-09-02   \n",
       "\n",
       "         revenue  runtime                spoken_languages    status  \\\n",
       "7345     39481.0    105.0                        Français  Released   \n",
       "9165     39481.0    105.0                        Français  Released   \n",
       "24844        0.0     85.0                         English  Released   \n",
       "14012        0.0     85.0                         English  Released   \n",
       "22151        0.0     89.0                         English  Released   \n",
       "14000        0.0     89.0                         English  Released   \n",
       "8068         0.0     86.0                          हिन्दी  Released   \n",
       "9327         0.0     86.0                          हिन्दी  Released   \n",
       "17229        0.0     90.0                           Dansk  Released   \n",
       "23044        0.0     90.0                           Dansk  Released   \n",
       "29374        0.0    137.0                         English   Rumored   \n",
       "15702        0.0    137.0                         English   Rumored   \n",
       "13946        0.0     62.0                         English  Released   \n",
       "40276        0.0     62.0                         English  Released   \n",
       "38871        0.0     70.0                         English  Released   \n",
       "16167        0.0     70.0                         English  Released   \n",
       "676          0.0    115.0                         Deutsch  Released   \n",
       "1465         0.0    115.0                         Deutsch  Released   \n",
       "19890        0.0    123.0                                  Released   \n",
       "21165        0.0    123.0                                  Released   \n",
       "13375        0.0    108.0                           suomi  Released   \n",
       "13261        0.0    108.0                           suomi  Released   \n",
       "16764        0.0    108.0                           suomi  Released   \n",
       "19925   455815.0    122.0                         English  Released   \n",
       "21854   455815.0    122.0                         English  Released   \n",
       "13220        0.0     57.0                         English  Released   \n",
       "35798        0.0     57.0                         English  Released   \n",
       "13603        0.0     92.0                                  Released   \n",
       "28860        0.0     92.0                                  Released   \n",
       "24164  1359497.0    118.0  Français|Norsk|svenska|English  Released   \n",
       "45265  1359497.0    118.0  Français|Norsk|svenska|English  Released   \n",
       "33184        0.0    122.0                 English|ภาษาไทย  Released   \n",
       "40040        0.0    122.0                 English|ภาษาไทย  Released   \n",
       "\n",
       "                                                 tagline  \\\n",
       "7345   There is no solitude greater than that of the ...   \n",
       "9165   There is no solitude greater than that of the ...   \n",
       "24844                                                NaN   \n",
       "14012                                                NaN   \n",
       "22151                                                NaN   \n",
       "14000                                                NaN   \n",
       "8068                                                 NaN   \n",
       "9327                                                 NaN   \n",
       "17229                                                NaN   \n",
       "23044                                                NaN   \n",
       "29374                                                NaN   \n",
       "15702                                                NaN   \n",
       "13946                                                NaN   \n",
       "40276                                                NaN   \n",
       "38871  Actually produced during the Great Newfoundlan...   \n",
       "16167  Actually produced during the Great Newfoundlan...   \n",
       "676                              A love, a hope, a wall.   \n",
       "1465                             A love, a hope, a wall.   \n",
       "19890                                                NaN   \n",
       "21165                                                NaN   \n",
       "13375  Which one is the first to return - memory or t...   \n",
       "13261  Which one is the first to return - memory or t...   \n",
       "16764  Which one is the first to return - memory or t...   \n",
       "19925                                                NaN   \n",
       "21854                                                NaN   \n",
       "13220                                                NaN   \n",
       "35798                                                NaN   \n",
       "13603                                                NaN   \n",
       "28860                                                NaN   \n",
       "24164                                                NaN   \n",
       "45265                                                NaN   \n",
       "33184                                                NaN   \n",
       "40040                                                NaN   \n",
       "\n",
       "                                  title  vote_average  vote_count  \n",
       "7345                        Le Samouraï           7.9       187.0  \n",
       "9165                        Le Samouraï           7.9       187.0  \n",
       "24844                              Deal           5.2        22.0  \n",
       "14012                              Deal           5.2        22.0  \n",
       "22151                  Days of Darkness           5.0         5.0  \n",
       "14000                  Days of Darkness           5.0         5.0  \n",
       "8068                        The Warrior           6.3        15.0  \n",
       "9327                        The Warrior           6.3        15.0  \n",
       "17229                       Brotherhood           7.1        21.0  \n",
       "23044                       Brotherhood           7.1        21.0  \n",
       "29374                         King Lear           8.0         3.0  \n",
       "15702                         King Lear           8.0         3.0  \n",
       "13946              Seven Years Bad Luck           5.6         4.0  \n",
       "40276              Seven Years Bad Luck           5.6         4.0  \n",
       "38871                        The Viking           NaN         0.0  \n",
       "16167                        The Viking           NaN         0.0  \n",
       "676                         The Promise           5.0         1.0  \n",
       "1465                        The Promise           5.0         1.0  \n",
       "19890                       The Tempest           NaN         0.0  \n",
       "21165                       The Tempest           NaN         0.0  \n",
       "13375                          Blackout           6.7         3.0  \n",
       "13261                          Blackout           6.7         3.0  \n",
       "16764                          Blackout           6.7         3.0  \n",
       "19925                      The Congress           6.4       165.0  \n",
       "21854                      The Congress           6.4       165.0  \n",
       "13220  Why We Fight: Divide and Conquer           5.0         1.0  \n",
       "35798  Why We Fight: Divide and Conquer           5.0         1.0  \n",
       "13603    Nana, the True Key of Pleasure           4.7         3.0  \n",
       "28860    Nana, the True Key of Pleasure           4.7         3.0  \n",
       "24164                     Force Majeure           6.8       255.0  \n",
       "45265                     Force Majeure           6.8       255.0  \n",
       "33184             Cemetery of Splendour           4.4        50.0  \n",
       "40040             Cemetery of Splendour           4.4        50.0  "
      ]
     },
     "execution_count": 345,
     "metadata": {},
     "output_type": "execute_result"
    }
   ],
   "source": [
    "mm_df[mm_df.duplicated(keep =  False)].sort_values(by = \"id\")"
   ]
  },
  {
   "cell_type": "code",
   "execution_count": 347,
   "metadata": {},
   "outputs": [
    {
     "data": {
      "text/plain": [
       "(45466, 19)"
      ]
     },
     "execution_count": 347,
     "metadata": {},
     "output_type": "execute_result"
    }
   ],
   "source": [
    "mm_df.shape"
   ]
  },
  {
   "cell_type": "code",
   "execution_count": 350,
   "metadata": {},
   "outputs": [
    {
     "data": {
      "text/plain": [
       "(45434, 19)"
      ]
     },
     "execution_count": 350,
     "metadata": {},
     "output_type": "execute_result"
    }
   ],
   "source": [
    "mm_df.drop_duplicates(subset = \"id\", inplace = False).shape"
   ]
  },
  {
   "cell_type": "markdown",
   "metadata": {},
   "source": [
    "## Handling Missing Values & Removing Observations"
   ]
  },
  {
   "cell_type": "markdown",
   "metadata": {},
   "source": [
    "17. __Drop__ all rows/movies with unknown __id__ or __title__."
   ]
  },
  {
   "cell_type": "markdown",
   "metadata": {},
   "source": [
    "18. __Keep__ only those rows/movies in the df with __10 or more non-NaN__ values."
   ]
  },
  {
   "cell_type": "code",
   "execution_count": null,
   "metadata": {},
   "outputs": [],
   "source": []
  },
  {
   "cell_type": "markdown",
   "metadata": {},
   "source": [
    "## Final (Cleaning) Steps"
   ]
  },
  {
   "cell_type": "markdown",
   "metadata": {},
   "source": [
    "19. __Keep__ only those rows/movies in the df with __status \"Released\"__. Then __drop__ the column \"status\"."
   ]
  },
  {
   "cell_type": "markdown",
   "metadata": {},
   "source": [
    "20. The Order of the columns should be as follows: "
   ]
  },
  {
   "cell_type": "code",
   "execution_count": null,
   "metadata": {},
   "outputs": [],
   "source": [
    "[\"id\", \"title\", \"tagline\", \"release_date\", \"genres\", \"belongs_to_collection\", \n",
    "\"original_language\", \"budget_musd\", \"revenue_musd\", \"production_companies\",\n",
    "\"production_countries\", \"vote_count\", \"vote_average\", \"popularity\", \"runtime\",\n",
    "\"overview\", \"spoken_languages\", \"poster_path\"]"
   ]
  },
  {
   "cell_type": "markdown",
   "metadata": {},
   "source": [
    "21. __Reset__ the Index and create a __RangeIndex__."
   ]
  },
  {
   "cell_type": "markdown",
   "metadata": {},
   "source": [
    "22. __Save__ the cleaned dataset in a __csv-file__."
   ]
  },
  {
   "cell_type": "code",
   "execution_count": null,
   "metadata": {},
   "outputs": [],
   "source": []
  },
  {
   "cell_type": "markdown",
   "metadata": {},
   "source": [
    "# +++++++++ See some Hints below +++++++++++++"
   ]
  },
  {
   "cell_type": "code",
   "execution_count": null,
   "metadata": {},
   "outputs": [],
   "source": []
  },
  {
   "cell_type": "code",
   "execution_count": null,
   "metadata": {},
   "outputs": [],
   "source": []
  },
  {
   "cell_type": "code",
   "execution_count": null,
   "metadata": {},
   "outputs": [],
   "source": []
  },
  {
   "cell_type": "code",
   "execution_count": null,
   "metadata": {},
   "outputs": [],
   "source": []
  },
  {
   "cell_type": "markdown",
   "metadata": {},
   "source": [
    "# ++++++++++++++++ Hints++++++++++++++++++++"
   ]
  },
  {
   "cell_type": "code",
   "execution_count": null,
   "metadata": {},
   "outputs": [],
   "source": []
  },
  {
   "cell_type": "markdown",
   "metadata": {},
   "source": [
    "__Hints for 3.__ <br>\n",
    "apply ast.literal_eval() on all stringified elements (you have to import ast):"
   ]
  },
  {
   "cell_type": "code",
   "execution_count": null,
   "metadata": {},
   "outputs": [],
   "source": [
    "# example:\n",
    "df.stringified_column = df.stringified_column.apply(lambda x: ast.literal_eval(x) if isinstance(x, str) else np.nan)"
   ]
  },
  {
   "cell_type": "code",
   "execution_count": null,
   "metadata": {},
   "outputs": [],
   "source": []
  },
  {
   "cell_type": "markdown",
   "metadata": {},
   "source": [
    "__Hints for 4., 5., 6., 7., 8.__<br> \n",
    "apply an appropriate lambda function on all column elements"
   ]
  },
  {
   "cell_type": "code",
   "execution_count": null,
   "metadata": {},
   "outputs": [],
   "source": []
  },
  {
   "cell_type": "markdown",
   "metadata": {},
   "source": [
    "__Hints for 9.__<br>\n",
    "Replace all __\"\"__ (empty strings) in the above columns by NaN (__np.nan__)"
   ]
  },
  {
   "cell_type": "code",
   "execution_count": null,
   "metadata": {},
   "outputs": [],
   "source": []
  },
  {
   "cell_type": "markdown",
   "metadata": {},
   "source": [
    "__Hints for 10.__<br>\n",
    "Use pd.to_numeric() and \"coerce\" errors"
   ]
  },
  {
   "cell_type": "code",
   "execution_count": null,
   "metadata": {},
   "outputs": [],
   "source": []
  },
  {
   "cell_type": "markdown",
   "metadata": {},
   "source": [
    "__Hints for 11.__<br>\n",
    "Replace the value 0 by NaN (__np.nan__)"
   ]
  },
  {
   "cell_type": "code",
   "execution_count": null,
   "metadata": {},
   "outputs": [],
   "source": []
  },
  {
   "cell_type": "markdown",
   "metadata": {},
   "source": [
    "__Hints for 13.__<br>\n",
    "Replace the value 0 by NaN (__np.nan__)"
   ]
  },
  {
   "cell_type": "code",
   "execution_count": null,
   "metadata": {},
   "outputs": [],
   "source": []
  },
  {
   "cell_type": "markdown",
   "metadata": {},
   "source": [
    "__Hints for 14.__<br>\n",
    "Use pd.to_datetime() and \"coerce\" errors"
   ]
  },
  {
   "cell_type": "code",
   "execution_count": null,
   "metadata": {},
   "outputs": [],
   "source": []
  },
  {
   "cell_type": "markdown",
   "metadata": {},
   "source": [
    "__Hints for 16.__<br>\n",
    "There cannot be two or more movies with the same movie id."
   ]
  },
  {
   "cell_type": "code",
   "execution_count": null,
   "metadata": {},
   "outputs": [],
   "source": []
  }
 ],
 "metadata": {
  "kernelspec": {
   "display_name": "Python 3",
   "language": "python",
   "name": "python3"
  },
  "language_info": {
   "codemirror_mode": {
    "name": "ipython",
    "version": 3
   },
   "file_extension": ".py",
   "mimetype": "text/x-python",
   "name": "python",
   "nbconvert_exporter": "python",
   "pygments_lexer": "ipython3",
   "version": "3.8.8"
  }
 },
 "nbformat": 4,
 "nbformat_minor": 2
}
