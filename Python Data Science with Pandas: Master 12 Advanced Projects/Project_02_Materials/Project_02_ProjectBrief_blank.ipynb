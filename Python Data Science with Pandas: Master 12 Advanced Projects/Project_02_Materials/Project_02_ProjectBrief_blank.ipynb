{
 "cells": [
  {
   "cell_type": "markdown",
   "metadata": {},
   "source": [
    "# Project 2: Data Import - Working with Web APIs and JSON (Movies Dataset)"
   ]
  },
  {
   "cell_type": "markdown",
   "metadata": {},
   "source": [
    "# Project Brief for Self-Coders"
   ]
  },
  {
   "cell_type": "markdown",
   "metadata": {},
   "source": [
    "Here you´ll have the opportunity to code major parts of Project 2 on your own. If you need any help or inspiration, have a look at the Videos or the Jupyter Notebook with the full code. <br> <br>\n",
    "Keep in mind that it´s all about __getting the right results/conclusions__. It´s not about finding the identical code. Things can be coded in many different ways. Even if you come to the same conclusions, it´s very unlikely that we have the very same code. "
   ]
  },
  {
   "cell_type": "markdown",
   "metadata": {},
   "source": [
    "## Importing Data from JSON files "
   ]
  },
  {
   "cell_type": "markdown",
   "metadata": {},
   "source": [
    "1. __Import__ the json files __blockbusters.json__, __blockbusters2.json__, __blockbusters3.json__ and load the datasets into Pandas DataFrames.\n"
   ]
  },
  {
   "cell_type": "code",
   "execution_count": null,
   "metadata": {},
   "outputs": [],
   "source": []
  },
  {
   "cell_type": "markdown",
   "metadata": {},
   "source": [
    "## Working with APIs and JSON (Part 1)"
   ]
  },
  {
   "cell_type": "markdown",
   "metadata": {},
   "source": [
    "2. __Create an account__ on https://www.themoviedb.org/"
   ]
  },
  {
   "cell_type": "markdown",
   "metadata": {},
   "source": [
    "3. Get your personal __API Key__"
   ]
  },
  {
   "cell_type": "markdown",
   "metadata": {},
   "source": [
    "4. __API-Request__ (movie module): Load all available information for the movie with __movie id = 140607__ into a Pandas DataFrame. <br> See https://developers.themoviedb.org/3/movies/get-movie-details for more information"
   ]
  },
  {
   "cell_type": "code",
   "execution_count": null,
   "metadata": {},
   "outputs": [],
   "source": []
  },
  {
   "cell_type": "markdown",
   "metadata": {},
   "source": [
    "## Working with APIs and JSON (Part 2)"
   ]
  },
  {
   "cell_type": "markdown",
   "metadata": {},
   "source": [
    "5. __API-Request__ (discover module): Load all movies with __release date between 2020-01-01 and 2020-02-29__ into a Pandas DataFrame. <br>\n",
    "See https://www.themoviedb.org/documentation/api/discover and https://developers.themoviedb.org/3/discover/movie-discover for more information."
   ]
  },
  {
   "cell_type": "code",
   "execution_count": null,
   "metadata": {},
   "outputs": [],
   "source": []
  },
  {
   "cell_type": "markdown",
   "metadata": {},
   "source": [
    "##  Importing and Saving the Movies Dataset (Best Practice)"
   ]
  },
  {
   "cell_type": "markdown",
   "metadata": {},
   "source": [
    "6. __API-Request__ (movie module): Load all available information for the movies with movie id = [__299534, 19995, 140607, 299536, 597, 135397, 420818, 24428, 168259, 99861, 284054, 12445, 181808, 330457, 351286, 109445, 321612, 260513__] into a Pandas DataFrame and __save the dataset in a local json file__."
   ]
  },
  {
   "cell_type": "code",
   "execution_count": null,
   "metadata": {},
   "outputs": [],
   "source": []
  },
  {
   "cell_type": "markdown",
   "metadata": {},
   "source": [
    "# +++++++++ See some Hints below +++++++++++++"
   ]
  },
  {
   "cell_type": "code",
   "execution_count": null,
   "metadata": {},
   "outputs": [],
   "source": []
  },
  {
   "cell_type": "code",
   "execution_count": null,
   "metadata": {},
   "outputs": [],
   "source": []
  },
  {
   "cell_type": "code",
   "execution_count": null,
   "metadata": {},
   "outputs": [],
   "source": []
  },
  {
   "cell_type": "code",
   "execution_count": null,
   "metadata": {},
   "outputs": [],
   "source": []
  },
  {
   "cell_type": "code",
   "execution_count": null,
   "metadata": {},
   "outputs": [],
   "source": []
  },
  {
   "cell_type": "markdown",
   "metadata": {},
   "source": [
    "# ++++++++++++++ Hints +++++++++++++++++++++"
   ]
  },
  {
   "cell_type": "markdown",
   "metadata": {},
   "source": [
    "__Hints for 1.__ <br>\n",
    "To load json files you can use "
   ]
  },
  {
   "cell_type": "code",
   "execution_count": null,
   "metadata": {},
   "outputs": [],
   "source": [
    "with open(\"filename.json\") as f:\n",
    "    data = json.load(f)"
   ]
  },
  {
   "cell_type": "markdown",
   "metadata": {},
   "source": [
    "and "
   ]
  },
  {
   "cell_type": "code",
   "execution_count": null,
   "metadata": {},
   "outputs": [],
   "source": [
    "pd.DataFrame(data), pd.read_json(filename.json), pd.json_normalize(data)"
   ]
  },
  {
   "cell_type": "markdown",
   "metadata": {},
   "source": [
    "the json files have the following orientation (important when using pd.read_json()):\n",
    "- blockbusters.json -> record\n",
    "- blockbusters2.json -> column\n",
    "- blockbusters3.json -> split "
   ]
  },
  {
   "cell_type": "code",
   "execution_count": 3,
   "metadata": {},
   "outputs": [],
   "source": [
    "import pandas as pd"
   ]
  },
  {
   "cell_type": "code",
   "execution_count": 120,
   "metadata": {},
   "outputs": [
    {
     "data": {
      "text/html": [
       "<div>\n",
       "<style scoped>\n",
       "    .dataframe tbody tr th:only-of-type {\n",
       "        vertical-align: middle;\n",
       "    }\n",
       "\n",
       "    .dataframe tbody tr th {\n",
       "        vertical-align: top;\n",
       "    }\n",
       "\n",
       "    .dataframe thead th {\n",
       "        text-align: right;\n",
       "    }\n",
       "</style>\n",
       "<table border=\"1\" class=\"dataframe\">\n",
       "  <thead>\n",
       "    <tr style=\"text-align: right;\">\n",
       "      <th></th>\n",
       "      <th>title</th>\n",
       "      <th>id</th>\n",
       "      <th>revenue</th>\n",
       "      <th>genres</th>\n",
       "      <th>belongs_to_collection</th>\n",
       "      <th>runtime</th>\n",
       "    </tr>\n",
       "  </thead>\n",
       "  <tbody>\n",
       "    <tr>\n",
       "      <th>0</th>\n",
       "      <td>Avengers: Endgame</td>\n",
       "      <td>299534</td>\n",
       "      <td>2797800564</td>\n",
       "      <td>[{'id': 12, 'name': 'Adventure'}, {'id': 878, ...</td>\n",
       "      <td>{'id': 86311, 'name': 'The Avengers Collection...</td>\n",
       "      <td>181</td>\n",
       "    </tr>\n",
       "    <tr>\n",
       "      <th>1</th>\n",
       "      <td>Avatar</td>\n",
       "      <td>19995</td>\n",
       "      <td>2787965087</td>\n",
       "      <td>[{'id': 28, 'name': 'Action'}, {'id': 12, 'nam...</td>\n",
       "      <td>{'id': 87096, 'name': 'Avatar Collection', 'po...</td>\n",
       "      <td>162</td>\n",
       "    </tr>\n",
       "    <tr>\n",
       "      <th>2</th>\n",
       "      <td>Star Wars: The Force Awakens</td>\n",
       "      <td>140607</td>\n",
       "      <td>2068223624</td>\n",
       "      <td>[{'id': 28, 'name': 'Action'}, {'id': 12, 'nam...</td>\n",
       "      <td>{'id': 10, 'name': 'Star Wars Collection', 'po...</td>\n",
       "      <td>136</td>\n",
       "    </tr>\n",
       "    <tr>\n",
       "      <th>3</th>\n",
       "      <td>Avengers: Infinity War</td>\n",
       "      <td>299536</td>\n",
       "      <td>2046239637</td>\n",
       "      <td>[{'id': 12, 'name': 'Adventure'}, {'id': 28, '...</td>\n",
       "      <td>{'id': 86311, 'name': 'The Avengers Collection...</td>\n",
       "      <td>149</td>\n",
       "    </tr>\n",
       "    <tr>\n",
       "      <th>4</th>\n",
       "      <td>Titanic</td>\n",
       "      <td>597</td>\n",
       "      <td>1845034188</td>\n",
       "      <td>[{'id': 18, 'name': 'Drama'}, {'id': 10749, 'n...</td>\n",
       "      <td>None</td>\n",
       "      <td>194</td>\n",
       "    </tr>\n",
       "  </tbody>\n",
       "</table>\n",
       "</div>"
      ],
      "text/plain": [
       "                          title      id     revenue  \\\n",
       "0             Avengers: Endgame  299534  2797800564   \n",
       "1                        Avatar   19995  2787965087   \n",
       "2  Star Wars: The Force Awakens  140607  2068223624   \n",
       "3        Avengers: Infinity War  299536  2046239637   \n",
       "4                       Titanic     597  1845034188   \n",
       "\n",
       "                                              genres  \\\n",
       "0  [{'id': 12, 'name': 'Adventure'}, {'id': 878, ...   \n",
       "1  [{'id': 28, 'name': 'Action'}, {'id': 12, 'nam...   \n",
       "2  [{'id': 28, 'name': 'Action'}, {'id': 12, 'nam...   \n",
       "3  [{'id': 12, 'name': 'Adventure'}, {'id': 28, '...   \n",
       "4  [{'id': 18, 'name': 'Drama'}, {'id': 10749, 'n...   \n",
       "\n",
       "                               belongs_to_collection  runtime  \n",
       "0  {'id': 86311, 'name': 'The Avengers Collection...      181  \n",
       "1  {'id': 87096, 'name': 'Avatar Collection', 'po...      162  \n",
       "2  {'id': 10, 'name': 'Star Wars Collection', 'po...      136  \n",
       "3  {'id': 86311, 'name': 'The Avengers Collection...      149  \n",
       "4                                               None      194  "
      ]
     },
     "execution_count": 120,
     "metadata": {},
     "output_type": "execute_result"
    }
   ],
   "source": [
    "df1 = pd.read_json('blockbusters.json')\n",
    "df1.head()"
   ]
  },
  {
   "cell_type": "code",
   "execution_count": 117,
   "metadata": {},
   "outputs": [],
   "source": [
    "def extract_genre(row):\n",
    "    genre_df = pd.DataFrame(row['genres']).applymap(lambda x:str(x))\n",
    "    row['genre_id'] = genre_df.id.str.cat(sep='|')\n",
    "    row['genre_name'] = genre_df.name.str.cat(sep='|')\n",
    "    return row\n",
    "\n",
    "def extract_belongs_to_collection(row):\n",
    "#     print(type(row))\n",
    "    belongs_to_collection = row['belongs_to_collection']\n",
    "    if belongs_to_collection != None:\n",
    "        row['btc_id'] = belongs_to_collection['id']\n",
    "        row['btc_name'] = belongs_to_collection['name']\n",
    "        row['btc_poster_path'] = belongs_to_collection['poster_path']\n",
    "        row['btc_backdrop_path'] = belongs_to_collection['backdrop_path']\n",
    "    return row"
   ]
  },
  {
   "cell_type": "code",
   "execution_count": 121,
   "metadata": {},
   "outputs": [
    {
     "data": {
      "text/html": [
       "<div>\n",
       "<style scoped>\n",
       "    .dataframe tbody tr th:only-of-type {\n",
       "        vertical-align: middle;\n",
       "    }\n",
       "\n",
       "    .dataframe tbody tr th {\n",
       "        vertical-align: top;\n",
       "    }\n",
       "\n",
       "    .dataframe thead th {\n",
       "        text-align: right;\n",
       "    }\n",
       "</style>\n",
       "<table border=\"1\" class=\"dataframe\">\n",
       "  <thead>\n",
       "    <tr style=\"text-align: right;\">\n",
       "      <th></th>\n",
       "      <th>btc_backdrop_path</th>\n",
       "      <th>btc_id</th>\n",
       "      <th>btc_name</th>\n",
       "      <th>btc_poster_path</th>\n",
       "      <th>genre_id</th>\n",
       "      <th>genre_name</th>\n",
       "      <th>id</th>\n",
       "      <th>revenue</th>\n",
       "      <th>runtime</th>\n",
       "      <th>title</th>\n",
       "    </tr>\n",
       "  </thead>\n",
       "  <tbody>\n",
       "    <tr>\n",
       "      <th>0</th>\n",
       "      <td>/zuW6fOiusv4X9nnW3paHGfXcSll.jpg</td>\n",
       "      <td>86311.0</td>\n",
       "      <td>The Avengers Collection</td>\n",
       "      <td>/yFSIUVTCvgYrpalUktulvk3Gi5Y.jpg</td>\n",
       "      <td>12|878|28</td>\n",
       "      <td>Adventure|Science Fiction|Action</td>\n",
       "      <td>299534</td>\n",
       "      <td>2797800564</td>\n",
       "      <td>181</td>\n",
       "      <td>Avengers: Endgame</td>\n",
       "    </tr>\n",
       "    <tr>\n",
       "      <th>1</th>\n",
       "      <td>/8nCr9W7sKus2q9PLbYsnT7iCkuT.jpg</td>\n",
       "      <td>87096.0</td>\n",
       "      <td>Avatar Collection</td>\n",
       "      <td>/nslJVsO58Etqkk17oXMuVK4gNOF.jpg</td>\n",
       "      <td>28|12|14|878</td>\n",
       "      <td>Action|Adventure|Fantasy|Science Fiction</td>\n",
       "      <td>19995</td>\n",
       "      <td>2787965087</td>\n",
       "      <td>162</td>\n",
       "      <td>Avatar</td>\n",
       "    </tr>\n",
       "    <tr>\n",
       "      <th>2</th>\n",
       "      <td>/d8duYyyC9J5T825Hg7grmaabfxQ.jpg</td>\n",
       "      <td>10.0</td>\n",
       "      <td>Star Wars Collection</td>\n",
       "      <td>/iTQHKziZy9pAAY4hHEDCGPaOvFC.jpg</td>\n",
       "      <td>28|12|878|14</td>\n",
       "      <td>Action|Adventure|Science Fiction|Fantasy</td>\n",
       "      <td>140607</td>\n",
       "      <td>2068223624</td>\n",
       "      <td>136</td>\n",
       "      <td>Star Wars: The Force Awakens</td>\n",
       "    </tr>\n",
       "    <tr>\n",
       "      <th>3</th>\n",
       "      <td>/zuW6fOiusv4X9nnW3paHGfXcSll.jpg</td>\n",
       "      <td>86311.0</td>\n",
       "      <td>The Avengers Collection</td>\n",
       "      <td>/yFSIUVTCvgYrpalUktulvk3Gi5Y.jpg</td>\n",
       "      <td>12|28|878</td>\n",
       "      <td>Adventure|Action|Science Fiction</td>\n",
       "      <td>299536</td>\n",
       "      <td>2046239637</td>\n",
       "      <td>149</td>\n",
       "      <td>Avengers: Infinity War</td>\n",
       "    </tr>\n",
       "    <tr>\n",
       "      <th>4</th>\n",
       "      <td>NaN</td>\n",
       "      <td>NaN</td>\n",
       "      <td>NaN</td>\n",
       "      <td>NaN</td>\n",
       "      <td>18|10749|53</td>\n",
       "      <td>Drama|Romance|Thriller</td>\n",
       "      <td>597</td>\n",
       "      <td>1845034188</td>\n",
       "      <td>194</td>\n",
       "      <td>Titanic</td>\n",
       "    </tr>\n",
       "  </tbody>\n",
       "</table>\n",
       "</div>"
      ],
      "text/plain": [
       "                  btc_backdrop_path   btc_id                 btc_name  \\\n",
       "0  /zuW6fOiusv4X9nnW3paHGfXcSll.jpg  86311.0  The Avengers Collection   \n",
       "1  /8nCr9W7sKus2q9PLbYsnT7iCkuT.jpg  87096.0        Avatar Collection   \n",
       "2  /d8duYyyC9J5T825Hg7grmaabfxQ.jpg     10.0     Star Wars Collection   \n",
       "3  /zuW6fOiusv4X9nnW3paHGfXcSll.jpg  86311.0  The Avengers Collection   \n",
       "4                               NaN      NaN                      NaN   \n",
       "\n",
       "                    btc_poster_path      genre_id  \\\n",
       "0  /yFSIUVTCvgYrpalUktulvk3Gi5Y.jpg     12|878|28   \n",
       "1  /nslJVsO58Etqkk17oXMuVK4gNOF.jpg  28|12|14|878   \n",
       "2  /iTQHKziZy9pAAY4hHEDCGPaOvFC.jpg  28|12|878|14   \n",
       "3  /yFSIUVTCvgYrpalUktulvk3Gi5Y.jpg     12|28|878   \n",
       "4                               NaN   18|10749|53   \n",
       "\n",
       "                                 genre_name      id     revenue  runtime  \\\n",
       "0          Adventure|Science Fiction|Action  299534  2797800564      181   \n",
       "1  Action|Adventure|Fantasy|Science Fiction   19995  2787965087      162   \n",
       "2  Action|Adventure|Science Fiction|Fantasy  140607  2068223624      136   \n",
       "3          Adventure|Action|Science Fiction  299536  2046239637      149   \n",
       "4                    Drama|Romance|Thriller     597  1845034188      194   \n",
       "\n",
       "                          title  \n",
       "0             Avengers: Endgame  \n",
       "1                        Avatar  \n",
       "2  Star Wars: The Force Awakens  \n",
       "3        Avengers: Infinity War  \n",
       "4                       Titanic  "
      ]
     },
     "execution_count": 121,
     "metadata": {},
     "output_type": "execute_result"
    }
   ],
   "source": [
    "df1 = df1.apply(extract_genre,axis=1)\n",
    "df1 = df1.apply(extract_belongs_to_collection,axis=1)\n",
    "df1.drop(columns=['genres','belongs_to_collection'],inplace= True)\n",
    "df1.head()"
   ]
  },
  {
   "cell_type": "code",
   "execution_count": 40,
   "metadata": {},
   "outputs": [
    {
     "data": {
      "text/html": [
       "<div>\n",
       "<style scoped>\n",
       "    .dataframe tbody tr th:only-of-type {\n",
       "        vertical-align: middle;\n",
       "    }\n",
       "\n",
       "    .dataframe tbody tr th {\n",
       "        vertical-align: top;\n",
       "    }\n",
       "\n",
       "    .dataframe thead th {\n",
       "        text-align: right;\n",
       "    }\n",
       "</style>\n",
       "<table border=\"1\" class=\"dataframe\">\n",
       "  <thead>\n",
       "    <tr style=\"text-align: right;\">\n",
       "      <th></th>\n",
       "      <th>title</th>\n",
       "      <th>id</th>\n",
       "      <th>revenue</th>\n",
       "      <th>genres</th>\n",
       "      <th>belongs_to_collection</th>\n",
       "      <th>runtime</th>\n",
       "    </tr>\n",
       "  </thead>\n",
       "  <tbody>\n",
       "    <tr>\n",
       "      <th>0</th>\n",
       "      <td>Avengers: Endgame</td>\n",
       "      <td>299534</td>\n",
       "      <td>2797800564</td>\n",
       "      <td>[{'id': 12, 'name': 'Adventure'}, {'id': 878, ...</td>\n",
       "      <td>{'id': 86311, 'name': 'The Avengers Collection...</td>\n",
       "      <td>181</td>\n",
       "    </tr>\n",
       "    <tr>\n",
       "      <th>1</th>\n",
       "      <td>Avatar</td>\n",
       "      <td>19995</td>\n",
       "      <td>2787965087</td>\n",
       "      <td>[{'id': 28, 'name': 'Action'}, {'id': 12, 'nam...</td>\n",
       "      <td>{'id': 87096, 'name': 'Avatar Collection', 'po...</td>\n",
       "      <td>162</td>\n",
       "    </tr>\n",
       "    <tr>\n",
       "      <th>2</th>\n",
       "      <td>Star Wars: The Force Awakens</td>\n",
       "      <td>140607</td>\n",
       "      <td>2068223624</td>\n",
       "      <td>[{'id': 28, 'name': 'Action'}, {'id': 12, 'nam...</td>\n",
       "      <td>{'id': 10, 'name': 'Star Wars Collection', 'po...</td>\n",
       "      <td>136</td>\n",
       "    </tr>\n",
       "    <tr>\n",
       "      <th>3</th>\n",
       "      <td>Avengers: Infinity War</td>\n",
       "      <td>299536</td>\n",
       "      <td>2046239637</td>\n",
       "      <td>[{'id': 12, 'name': 'Adventure'}, {'id': 28, '...</td>\n",
       "      <td>{'id': 86311, 'name': 'The Avengers Collection...</td>\n",
       "      <td>149</td>\n",
       "    </tr>\n",
       "    <tr>\n",
       "      <th>4</th>\n",
       "      <td>Titanic</td>\n",
       "      <td>597</td>\n",
       "      <td>1845034188</td>\n",
       "      <td>[{'id': 18, 'name': 'Drama'}, {'id': 10749, 'n...</td>\n",
       "      <td>None</td>\n",
       "      <td>194</td>\n",
       "    </tr>\n",
       "  </tbody>\n",
       "</table>\n",
       "</div>"
      ],
      "text/plain": [
       "                          title      id     revenue  \\\n",
       "0             Avengers: Endgame  299534  2797800564   \n",
       "1                        Avatar   19995  2787965087   \n",
       "2  Star Wars: The Force Awakens  140607  2068223624   \n",
       "3        Avengers: Infinity War  299536  2046239637   \n",
       "4                       Titanic     597  1845034188   \n",
       "\n",
       "                                              genres  \\\n",
       "0  [{'id': 12, 'name': 'Adventure'}, {'id': 878, ...   \n",
       "1  [{'id': 28, 'name': 'Action'}, {'id': 12, 'nam...   \n",
       "2  [{'id': 28, 'name': 'Action'}, {'id': 12, 'nam...   \n",
       "3  [{'id': 12, 'name': 'Adventure'}, {'id': 28, '...   \n",
       "4  [{'id': 18, 'name': 'Drama'}, {'id': 10749, 'n...   \n",
       "\n",
       "                               belongs_to_collection  runtime  \n",
       "0  {'id': 86311, 'name': 'The Avengers Collection...      181  \n",
       "1  {'id': 87096, 'name': 'Avatar Collection', 'po...      162  \n",
       "2  {'id': 10, 'name': 'Star Wars Collection', 'po...      136  \n",
       "3  {'id': 86311, 'name': 'The Avengers Collection...      149  \n",
       "4                                               None      194  "
      ]
     },
     "execution_count": 40,
     "metadata": {},
     "output_type": "execute_result"
    }
   ],
   "source": [
    "df2 = pd.read_json('blockbusters2.json')\n",
    "df2.head()"
   ]
  },
  {
   "cell_type": "code",
   "execution_count": 50,
   "metadata": {},
   "outputs": [
    {
     "data": {
      "text/html": [
       "<div>\n",
       "<style scoped>\n",
       "    .dataframe tbody tr th:only-of-type {\n",
       "        vertical-align: middle;\n",
       "    }\n",
       "\n",
       "    .dataframe tbody tr th {\n",
       "        vertical-align: top;\n",
       "    }\n",
       "\n",
       "    .dataframe thead th {\n",
       "        text-align: right;\n",
       "    }\n",
       "</style>\n",
       "<table border=\"1\" class=\"dataframe\">\n",
       "  <thead>\n",
       "    <tr style=\"text-align: right;\">\n",
       "      <th></th>\n",
       "      <th>title</th>\n",
       "      <th>id</th>\n",
       "      <th>revenue</th>\n",
       "      <th>genres</th>\n",
       "      <th>belongs_to_collection</th>\n",
       "      <th>runtime</th>\n",
       "    </tr>\n",
       "  </thead>\n",
       "  <tbody>\n",
       "    <tr>\n",
       "      <th>0</th>\n",
       "      <td>Avengers: Endgame</td>\n",
       "      <td>299534</td>\n",
       "      <td>2797800564</td>\n",
       "      <td>[{'id': 12, 'name': 'Adventure'}, {'id': 878, ...</td>\n",
       "      <td>{'id': 86311, 'name': 'The Avengers Collection...</td>\n",
       "      <td>181</td>\n",
       "    </tr>\n",
       "    <tr>\n",
       "      <th>1</th>\n",
       "      <td>Avatar</td>\n",
       "      <td>19995</td>\n",
       "      <td>2787965087</td>\n",
       "      <td>[{'id': 28, 'name': 'Action'}, {'id': 12, 'nam...</td>\n",
       "      <td>{'id': 87096, 'name': 'Avatar Collection', 'po...</td>\n",
       "      <td>162</td>\n",
       "    </tr>\n",
       "    <tr>\n",
       "      <th>2</th>\n",
       "      <td>Star Wars: The Force Awakens</td>\n",
       "      <td>140607</td>\n",
       "      <td>2068223624</td>\n",
       "      <td>[{'id': 28, 'name': 'Action'}, {'id': 12, 'nam...</td>\n",
       "      <td>{'id': 10, 'name': 'Star Wars Collection', 'po...</td>\n",
       "      <td>136</td>\n",
       "    </tr>\n",
       "    <tr>\n",
       "      <th>3</th>\n",
       "      <td>Avengers: Infinity War</td>\n",
       "      <td>299536</td>\n",
       "      <td>2046239637</td>\n",
       "      <td>[{'id': 12, 'name': 'Adventure'}, {'id': 28, '...</td>\n",
       "      <td>{'id': 86311, 'name': 'The Avengers Collection...</td>\n",
       "      <td>149</td>\n",
       "    </tr>\n",
       "    <tr>\n",
       "      <th>4</th>\n",
       "      <td>Titanic</td>\n",
       "      <td>597</td>\n",
       "      <td>1845034188</td>\n",
       "      <td>[{'id': 18, 'name': 'Drama'}, {'id': 10749, 'n...</td>\n",
       "      <td>None</td>\n",
       "      <td>194</td>\n",
       "    </tr>\n",
       "  </tbody>\n",
       "</table>\n",
       "</div>"
      ],
      "text/plain": [
       "                          title      id     revenue  \\\n",
       "0             Avengers: Endgame  299534  2797800564   \n",
       "1                        Avatar   19995  2787965087   \n",
       "2  Star Wars: The Force Awakens  140607  2068223624   \n",
       "3        Avengers: Infinity War  299536  2046239637   \n",
       "4                       Titanic     597  1845034188   \n",
       "\n",
       "                                              genres  \\\n",
       "0  [{'id': 12, 'name': 'Adventure'}, {'id': 878, ...   \n",
       "1  [{'id': 28, 'name': 'Action'}, {'id': 12, 'nam...   \n",
       "2  [{'id': 28, 'name': 'Action'}, {'id': 12, 'nam...   \n",
       "3  [{'id': 12, 'name': 'Adventure'}, {'id': 28, '...   \n",
       "4  [{'id': 18, 'name': 'Drama'}, {'id': 10749, 'n...   \n",
       "\n",
       "                               belongs_to_collection  runtime  \n",
       "0  {'id': 86311, 'name': 'The Avengers Collection...      181  \n",
       "1  {'id': 87096, 'name': 'Avatar Collection', 'po...      162  \n",
       "2  {'id': 10, 'name': 'Star Wars Collection', 'po...      136  \n",
       "3  {'id': 86311, 'name': 'The Avengers Collection...      149  \n",
       "4                                               None      194  "
      ]
     },
     "execution_count": 50,
     "metadata": {},
     "output_type": "execute_result"
    }
   ],
   "source": [
    "import json\n",
    "with open(\"blockbusters3.json\") as f:\n",
    "    data = json.load(f)\n",
    "    \n",
    "df = pd.DataFrame(data['data'])\n",
    "df.columns = data['columns']\n",
    "df.index = data['index']\n",
    "df.head()"
   ]
  },
  {
   "cell_type": "code",
   "execution_count": 53,
   "metadata": {},
   "outputs": [],
   "source": [
    "\n",
    "with open(\"blockbusters.json\") as f:\n",
    "    data = json.load(f)"
   ]
  },
  {
   "cell_type": "code",
   "execution_count": 57,
   "metadata": {},
   "outputs": [
    {
     "data": {
      "text/plain": [
       "[{'title': 'Avengers: Endgame',\n",
       "  'id': 299534,\n",
       "  'revenue': 2797800564,\n",
       "  'genres': [{'id': 12, 'name': 'Adventure'},\n",
       "   {'id': 878, 'name': 'Science Fiction'},\n",
       "   {'id': 28, 'name': 'Action'}],\n",
       "  'belongs_to_collection': {'id': 86311,\n",
       "   'name': 'The Avengers Collection',\n",
       "   'poster_path': '/yFSIUVTCvgYrpalUktulvk3Gi5Y.jpg',\n",
       "   'backdrop_path': '/zuW6fOiusv4X9nnW3paHGfXcSll.jpg'},\n",
       "  'runtime': 181},\n",
       " {'title': 'Avatar',\n",
       "  'id': 19995,\n",
       "  'revenue': 2787965087,\n",
       "  'genres': [{'id': 28, 'name': 'Action'},\n",
       "   {'id': 12, 'name': 'Adventure'},\n",
       "   {'id': 14, 'name': 'Fantasy'},\n",
       "   {'id': 878, 'name': 'Science Fiction'}],\n",
       "  'belongs_to_collection': {'id': 87096,\n",
       "   'name': 'Avatar Collection',\n",
       "   'poster_path': '/nslJVsO58Etqkk17oXMuVK4gNOF.jpg',\n",
       "   'backdrop_path': '/8nCr9W7sKus2q9PLbYsnT7iCkuT.jpg'},\n",
       "  'runtime': 162},\n",
       " {'title': 'Star Wars: The Force Awakens',\n",
       "  'id': 140607,\n",
       "  'revenue': 2068223624,\n",
       "  'genres': [{'id': 28, 'name': 'Action'},\n",
       "   {'id': 12, 'name': 'Adventure'},\n",
       "   {'id': 878, 'name': 'Science Fiction'},\n",
       "   {'id': 14, 'name': 'Fantasy'}],\n",
       "  'belongs_to_collection': {'id': 10,\n",
       "   'name': 'Star Wars Collection',\n",
       "   'poster_path': '/iTQHKziZy9pAAY4hHEDCGPaOvFC.jpg',\n",
       "   'backdrop_path': '/d8duYyyC9J5T825Hg7grmaabfxQ.jpg'},\n",
       "  'runtime': 136},\n",
       " {'title': 'Avengers: Infinity War',\n",
       "  'id': 299536,\n",
       "  'revenue': 2046239637,\n",
       "  'genres': [{'id': 12, 'name': 'Adventure'},\n",
       "   {'id': 28, 'name': 'Action'},\n",
       "   {'id': 878, 'name': 'Science Fiction'}],\n",
       "  'belongs_to_collection': {'id': 86311,\n",
       "   'name': 'The Avengers Collection',\n",
       "   'poster_path': '/yFSIUVTCvgYrpalUktulvk3Gi5Y.jpg',\n",
       "   'backdrop_path': '/zuW6fOiusv4X9nnW3paHGfXcSll.jpg'},\n",
       "  'runtime': 149},\n",
       " {'title': 'Titanic',\n",
       "  'id': 597,\n",
       "  'revenue': 1845034188,\n",
       "  'genres': [{'id': 18, 'name': 'Drama'},\n",
       "   {'id': 10749, 'name': 'Romance'},\n",
       "   {'id': 53, 'name': 'Thriller'}],\n",
       "  'belongs_to_collection': None,\n",
       "  'runtime': 194},\n",
       " {'title': 'Jurassic World',\n",
       "  'id': 135397,\n",
       "  'revenue': 1671713208,\n",
       "  'genres': [{'id': 28, 'name': 'Action'},\n",
       "   {'id': 12, 'name': 'Adventure'},\n",
       "   {'id': 878, 'name': 'Science Fiction'},\n",
       "   {'id': 53, 'name': 'Thriller'}],\n",
       "  'belongs_to_collection': {'id': 328,\n",
       "   'name': 'Jurassic Park Collection',\n",
       "   'poster_path': '/qIm2nHXLpBBdMxi8dvfrnDkBUDh.jpg',\n",
       "   'backdrop_path': '/pJjIH9QN0OkHFV9eue6XfRVnPkr.jpg'},\n",
       "  'runtime': 124},\n",
       " {'title': 'The Lion King',\n",
       "  'id': 420818,\n",
       "  'revenue': 1656943394,\n",
       "  'genres': [{'id': 12, 'name': 'Adventure'}, {'id': 10751, 'name': 'Family'}],\n",
       "  'belongs_to_collection': None,\n",
       "  'runtime': 118},\n",
       " {'title': 'The Avengers',\n",
       "  'id': 24428,\n",
       "  'revenue': 1519557910,\n",
       "  'genres': [{'id': 878, 'name': 'Science Fiction'},\n",
       "   {'id': 28, 'name': 'Action'},\n",
       "   {'id': 12, 'name': 'Adventure'}],\n",
       "  'belongs_to_collection': {'id': 86311,\n",
       "   'name': 'The Avengers Collection',\n",
       "   'poster_path': '/yFSIUVTCvgYrpalUktulvk3Gi5Y.jpg',\n",
       "   'backdrop_path': '/zuW6fOiusv4X9nnW3paHGfXcSll.jpg'},\n",
       "  'runtime': 143},\n",
       " {'title': 'Furious 7',\n",
       "  'id': 168259,\n",
       "  'revenue': 1506249360,\n",
       "  'genres': [{'id': 28, 'name': 'Action'}, {'id': 53, 'name': 'Thriller'}],\n",
       "  'belongs_to_collection': {'id': 9485,\n",
       "   'name': 'The Fast and the Furious Collection',\n",
       "   'poster_path': '/uv63yAGg1zETAs1XQsOQpava87l.jpg',\n",
       "   'backdrop_path': '/z5A5W3WYJc3UVEWljSGwdjDgQ0j.jpg'},\n",
       "  'runtime': 137},\n",
       " {'title': 'Avengers: Age of Ultron',\n",
       "  'id': 99861,\n",
       "  'revenue': 1405403694,\n",
       "  'genres': [{'id': 28, 'name': 'Action'},\n",
       "   {'id': 12, 'name': 'Adventure'},\n",
       "   {'id': 878, 'name': 'Science Fiction'}],\n",
       "  'belongs_to_collection': {'id': 86311,\n",
       "   'name': 'The Avengers Collection',\n",
       "   'poster_path': '/yFSIUVTCvgYrpalUktulvk3Gi5Y.jpg',\n",
       "   'backdrop_path': '/zuW6fOiusv4X9nnW3paHGfXcSll.jpg'},\n",
       "  'runtime': 141},\n",
       " {'title': 'Black Panther',\n",
       "  'id': 284054,\n",
       "  'revenue': 1346739107,\n",
       "  'genres': [{'id': 28, 'name': 'Action'},\n",
       "   {'id': 12, 'name': 'Adventure'},\n",
       "   {'id': 14, 'name': 'Fantasy'},\n",
       "   {'id': 878, 'name': 'Science Fiction'}],\n",
       "  'belongs_to_collection': {'id': 529892,\n",
       "   'name': 'Black Panther Collection',\n",
       "   'poster_path': '/9ZSPIsxI3TZDgfg0Jzk0RZl4INg.jpg',\n",
       "   'backdrop_path': '/1Jj7Frjjbewb6Q6dl6YXhL3kuvL.jpg'},\n",
       "  'runtime': 134},\n",
       " {'title': 'Harry Potter and the Deathly Hallows: Part 2',\n",
       "  'id': 12445,\n",
       "  'revenue': 1341511219,\n",
       "  'genres': [{'id': 14, 'name': 'Fantasy'}, {'id': 12, 'name': 'Adventure'}],\n",
       "  'belongs_to_collection': {'id': 1241,\n",
       "   'name': 'Harry Potter Collection',\n",
       "   'poster_path': '/eVPs2Y0LyvTLZn6AP5Z6O2rtiGB.jpg',\n",
       "   'backdrop_path': '/wfnMt6LGqYHcNyOfsuusw5lX3bL.jpg'},\n",
       "  'runtime': 130},\n",
       " {'title': 'Star Wars: The Last Jedi',\n",
       "  'id': 181808,\n",
       "  'revenue': 1332539889,\n",
       "  'genres': [{'id': 14, 'name': 'Fantasy'},\n",
       "   {'id': 12, 'name': 'Adventure'},\n",
       "   {'id': 878, 'name': 'Science Fiction'},\n",
       "   {'id': 28, 'name': 'Action'}],\n",
       "  'belongs_to_collection': {'id': 10,\n",
       "   'name': 'Star Wars Collection',\n",
       "   'poster_path': '/iTQHKziZy9pAAY4hHEDCGPaOvFC.jpg',\n",
       "   'backdrop_path': '/d8duYyyC9J5T825Hg7grmaabfxQ.jpg'},\n",
       "  'runtime': 152},\n",
       " {'title': 'Frozen II',\n",
       "  'id': 330457,\n",
       "  'revenue': 1330764959,\n",
       "  'genres': [{'id': 16, 'name': 'Animation'},\n",
       "   {'id': 10751, 'name': 'Family'},\n",
       "   {'id': 12, 'name': 'Adventure'}],\n",
       "  'belongs_to_collection': {'id': 386382,\n",
       "   'name': 'Frozen Collection',\n",
       "   'poster_path': '/rpoXnE9UzCbjmINhxIi8bZF557B.jpg',\n",
       "   'backdrop_path': '/vZiqhw6oFoMlHSneIdVip9rRou2.jpg'},\n",
       "  'runtime': 104},\n",
       " {'title': 'Jurassic World: Fallen Kingdom',\n",
       "  'id': 351286,\n",
       "  'revenue': 1303459585,\n",
       "  'genres': [{'id': 28, 'name': 'Action'},\n",
       "   {'id': 12, 'name': 'Adventure'},\n",
       "   {'id': 878, 'name': 'Science Fiction'}],\n",
       "  'belongs_to_collection': {'id': 328,\n",
       "   'name': 'Jurassic Park Collection',\n",
       "   'poster_path': '/qIm2nHXLpBBdMxi8dvfrnDkBUDh.jpg',\n",
       "   'backdrop_path': '/pJjIH9QN0OkHFV9eue6XfRVnPkr.jpg'},\n",
       "  'runtime': 129},\n",
       " {'title': 'Frozen',\n",
       "  'id': 109445,\n",
       "  'revenue': 1274219009,\n",
       "  'genres': [{'id': 16, 'name': 'Animation'},\n",
       "   {'id': 12, 'name': 'Adventure'},\n",
       "   {'id': 10751, 'name': 'Family'}],\n",
       "  'belongs_to_collection': {'id': 386382,\n",
       "   'name': 'Frozen Collection',\n",
       "   'poster_path': '/rpoXnE9UzCbjmINhxIi8bZF557B.jpg',\n",
       "   'backdrop_path': '/vZiqhw6oFoMlHSneIdVip9rRou2.jpg'},\n",
       "  'runtime': 102},\n",
       " {'title': 'Beauty and the Beast',\n",
       "  'id': 321612,\n",
       "  'revenue': 1263521126,\n",
       "  'genres': [{'id': 10751, 'name': 'Family'},\n",
       "   {'id': 14, 'name': 'Fantasy'},\n",
       "   {'id': 10749, 'name': 'Romance'}],\n",
       "  'belongs_to_collection': None,\n",
       "  'runtime': 129},\n",
       " {'title': 'Incredibles 2',\n",
       "  'id': 260513,\n",
       "  'revenue': 1241891456,\n",
       "  'genres': [{'id': 28, 'name': 'Action'},\n",
       "   {'id': 12, 'name': 'Adventure'},\n",
       "   {'id': 16, 'name': 'Animation'},\n",
       "   {'id': 10751, 'name': 'Family'}],\n",
       "  'belongs_to_collection': {'id': 468222,\n",
       "   'name': 'The Incredibles Collection',\n",
       "   'poster_path': '/l7GqbzkJwowYRIXAtUz2iCPi64a.jpg',\n",
       "   'backdrop_path': '/9eDW2dVhnzPS2HvaRdK2OlAGaLq.jpg'},\n",
       "  'runtime': 118}]"
      ]
     },
     "execution_count": 57,
     "metadata": {},
     "output_type": "execute_result"
    }
   ],
   "source": [
    "data"
   ]
  },
  {
   "cell_type": "markdown",
   "metadata": {},
   "source": [
    "__Hints for 4., 5., 6.__<br>\n",
    "Make API GET-requests with the library requests (import requests):"
   ]
  },
  {
   "cell_type": "code",
   "execution_count": null,
   "metadata": {},
   "outputs": [],
   "source": [
    "data = requests.get(url).json()"
   ]
  },
  {
   "cell_type": "markdown",
   "metadata": {},
   "source": [
    "__Hints for 4. and 6.,__ <br> url structure for movie module:"
   ]
  },
  {
   "cell_type": "markdown",
   "metadata": {},
   "source": [
    "\"https://api.themoviedb.org/3/movie/insert_movie_id?api_key=insert_api_key\" (replace \"insert_movie_id\" with movie id and \"insert_api_key\" with your personal api-key)"
   ]
  },
  {
   "cell_type": "markdown",
   "metadata": {},
   "source": [
    "__Hints for 5.__<br>\n",
    "url structure for discover module:"
   ]
  },
  {
   "cell_type": "markdown",
   "metadata": {},
   "source": [
    "\"https://api.themoviedb.org/3/discover/movie?api_key=insert_api_key&query1&query2...\" (replace \"insert_api_key\" with your personal api-key and add appropriate queries)"
   ]
  },
  {
   "cell_type": "code",
   "execution_count": null,
   "metadata": {},
   "outputs": [],
   "source": []
  }
 ],
 "metadata": {
  "kernelspec": {
   "display_name": "Python 3",
   "language": "python",
   "name": "python3"
  },
  "language_info": {
   "codemirror_mode": {
    "name": "ipython",
    "version": 3
   },
   "file_extension": ".py",
   "mimetype": "text/x-python",
   "name": "python",
   "nbconvert_exporter": "python",
   "pygments_lexer": "ipython3",
   "version": "3.8.8"
  }
 },
 "nbformat": 4,
 "nbformat_minor": 2
}
